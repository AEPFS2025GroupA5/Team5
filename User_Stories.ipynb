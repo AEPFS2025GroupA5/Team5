{
 "cells": [
  {
   "cell_type": "markdown",
   "id": "2d3333ec",
   "metadata": {},
   "source": [
    "Das Notebook ist dafür da die User Stories auszuführen. Bitte testet sie davor in eurem .main (und macht euer main in das gitignore). Hier also nur funktionierende User Stories!\n",
    "\n",
    "Damit der import richtig funktioniert müsst ihr die init datei des jeweiligen Ordners (model/data_access/business_logic) pflegen."
   ]
  },
  {
   "cell_type": "code",
   "execution_count": null,
   "id": "15b04bbf",
   "metadata": {},
   "outputs": [],
   "source": [
    "import os\n",
    "import shutil\n",
    "\n",
    "import business_logic.address_manager\n",
    "\n",
    "original = \"database/original.db\"\n",
    "working = \"database/hotel_reservation_sample_working.db\"\n",
    "shutil.copyfile(original, working)\n",
    "\n",
    "\n",
    "\n",
    "os.environ[\"DB_FILE\"] = working\n",
    "\n",
    "from datetime import date\n",
    "\n",
    "import business_logic.room_manager\n",
    "import model\n",
    "import data_access\n",
    "import business_logic\n",
    "import ui\n",
    "\n",
    "Hotel_manager = business_logic.HotelManager()\n",
    "Room_manager = business_logic.RoomManager()\n",
    "Booking_manager= business_logic.BookingManager()\n",
    "Invoice_manager = business_logic.InvoiceManager()\n",
    "Adress_manager = business_logic.AddressManager()\n",
    "\n"
   ]
  },
  {
   "cell_type": "markdown",
   "id": "8f46d608",
   "metadata": {},
   "source": [
    "1. Als Gast möchte ich die verfügbaren Hotels durchsuchen, damit \n",
    "ich dasjenige auswählen kann, welches meinen Wünschen \n",
    "entspricht. Wünsche sind:\n",
    "\n",
    "1.1. Ich möchte alle Hotels in einer Stadt durchsuchen, \n",
    "damit ich das Hotel nach meinem bevorzugten Standort \n",
    "(Stadt) auswählen kann."
   ]
  },
  {
   "cell_type": "code",
   "execution_count": null,
   "id": "2ec9059b",
   "metadata": {},
   "outputs": [],
   "source": [
    "# UI\n",
    "input_city = ui.hotel_ui.get_city_input()\n",
    "\n",
    "# Business Logic\n",
    "by_city = Hotel_manager.get_hotels_by_city(input_city)\n",
    "\n",
    "#Output\n",
    "if not by_city:\n",
    "    print(f\"No hotels found in: {input_city}.\")\n",
    "else:\n",
    "    Hotel_manager.print_user_friendly_hotels(by_city)"
   ]
  },
  {
   "cell_type": "markdown",
   "id": "833a2429",
   "metadata": {},
   "source": [
    "Erklärung:\n",
    "\n",
    "UI: In der Hotel UI wird durch get_city_input sichergestellt das mindestens 3 Buchstaben und höchstens 10 inputed werden. Der User könnte zwar integers eingeben, aber bekommt dann kein Ergebniss. Durch einen while loop wird es bei falschen input weiter versucht bis ein richtiger kommt.\n",
    "\n",
    "BL: Es werden alle Hotels in die Business Logic (BL) geladen durch self._all_hotels . Dann wird gefiltert nach city.lower() in hotel.address.city.lower(). Dadurch muss man nicht die Stadt genau ausschreiben."
   ]
  },
  {
   "cell_type": "markdown",
   "id": "0cdc0fc2",
   "metadata": {},
   "source": [
    "1.2. Ich möchte alle Hotels in einer Stadt nach der\n",
    "Anzahl der Sterne (z.B. mindestens 4 Sterne) durchsuchen."
   ]
  },
  {
   "cell_type": "code",
   "execution_count": null,
   "id": "46d5a2ed",
   "metadata": {},
   "outputs": [],
   "source": [
    "# UI\n",
    "input_city = ui.hotel_ui.get_city_input()\n",
    "input_stars = ui.hotel_ui.get_stars_input()\n",
    "\n",
    "# Business Logic\n",
    "by_city_and_stars = Hotel_manager.get_hotels_by_city_and_stars(input_city,input_stars)\n",
    "\n",
    "# Output\n",
    "if not by_city_and_stars:\n",
    "    print(f\"No hotels found in: {input_city} with {input_stars} stars.\")\n",
    "else:\n",
    "    Hotel_manager.print_user_friendly_hotels(by_city_and_stars)\n"
   ]
  },
  {
   "cell_type": "markdown",
   "id": "82e22c2f",
   "metadata": {},
   "source": [
    "Erklärung:\n",
    "\n",
    "UI: get_city input ist gleich wie oben. get_stars_input prüft das es ein integer ist und zwischen 1-5.\n",
    "\n",
    "BL: Genau wie die obere User Story wird alles in der BL gefiltert. Nur wird jetzt eine neue Funktion mit dem \"and hotel.stars >= stars\"  benutzt, damit die Sterne beim Hotel gleich groß oder größer sind als vom User gewünscht. "
   ]
  },
  {
   "cell_type": "markdown",
   "id": "54f60981",
   "metadata": {},
   "source": [
    "1.3. Ich möchte alle Hotels in einer Stadt durchsuchen,\n",
    "die Zimmer haben, die meiner Gästezahl entsprechen (nur 1\n",
    "Zimmer pro Buchung)."
   ]
  },
  {
   "cell_type": "code",
   "execution_count": null,
   "id": "031a19a8",
   "metadata": {},
   "outputs": [],
   "source": [
    "# UI\n",
    "input_city = ui.hotel_ui.get_city_input()\n",
    "input_max_guests = ui.hotel_ui.get_max_guests_input()\n",
    "\n",
    "# Business Logic\n",
    "by_max_guests = Hotel_manager.get_hotels_by_city_and_max_guests(input_city, input_max_guests)\n",
    "\n",
    "# Output\n",
    "if not by_max_guests:\n",
    "    print(f\"No hotels found in: {input_city} with max guests: {input_max_guests}.\")\n",
    "else:\n",
    "    Hotel_manager.print_user_friendly_hotels(by_max_guests)"
   ]
  },
  {
   "cell_type": "markdown",
   "id": "ebaf59ab",
   "metadata": {},
   "source": [
    "Erklärung: \n",
    "\n",
    "UI: get_city_input wie oben. get_max_guests prüft ob der input ein int und zwischen 1 und 50 ist. Wir haben mal definiert das es wohl keine Zimmer mit max guests über 50 gibt.\n",
    "\n",
    "BL: Im Hotelmanager wird wie vorher nach stadt gesucht. Jetzt wird aber der Room_manager aufgerufen, zuerst mit der funktion \"get_room_details_for_hotel(hotel.hotel_id)\" also werden die rooms mit der hotel.id geholt und dann wird durch \"[room for room in rooms if room.max_guests >= max_guests]\" geprüft ob die max guest gleich oder größer sind. Die passenden Hotels werden dann returned. Ich habe extra nicht die Room infos mitgegeben, da ich es im Hotelmanager klären wollte und der GAst \"alle Hotels in einer Stadt\" durchsuchen will."
   ]
  },
  {
   "cell_type": "markdown",
   "id": "b2dabaff",
   "metadata": {},
   "source": [
    "1.4. Ich möchte alle Hotels in einer Stadt durchsuchen,\n",
    "die während meines Aufenthaltes (\"von\" (check_in_date)\n",
    "und \"bis\" (check_out_date)) Zimmer zur Verfügung haben,\n",
    "damit ich nur relevante Ergebnisse sehe."
   ]
  },
  {
   "cell_type": "code",
   "execution_count": null,
   "id": "98bf66b0",
   "metadata": {},
   "outputs": [],
   "source": [
    "# UI\n",
    "input_city = ui.hotel_ui.get_city_input()\n",
    "\n",
    "# Business Logic\n",
    "h= Booking_manager.read_av_rooms_city(input_city, date(2025,4,14), date(2025,4,11))\n",
    "\n",
    "# Output\n",
    "print(h)"
   ]
  },
  {
   "cell_type": "markdown",
   "id": "242d75b5",
   "metadata": {},
   "source": [
    "Erklärung:\n",
    "\n",
    "Anna du musst noch irgendwie checken das die Dates richtig sind, also nicht in der vergangenheit usw. Und der Output auch noch schöner"
   ]
  },
  {
   "cell_type": "markdown",
   "id": "6a55240c",
   "metadata": {},
   "source": [
    "1.5. Ich möchte Wünsche kombinieren können, z.B. die\n",
    "verfügbaren Zimmer zusammen mit meiner Gästezahl und der\n",
    "mindest Anzahl Sterne."
   ]
  },
  {
   "cell_type": "code",
   "execution_count": null,
   "id": "9e096b0e",
   "metadata": {},
   "outputs": [],
   "source": [
    "#UI\n",
    "city = ui.input_helper.input_y_n(\"Do you want to book in a specific city? (Y or N)\", )\n",
    "if city:\n",
    "    input_city = ui.hotel_ui.get_city_input()\n",
    "else: \n",
    "    input_city = None\n",
    "\n",
    "stars = ui.input_helper.input_y_n(\"Do you want to book a hotel with a specific number of stars? (Y or N)\", )\n",
    "if stars:\n",
    "    input_stars = ui.hotel_ui.get_stars_input()\n",
    "else:\n",
    "    input_stars = None\n",
    "\n",
    "max_guests = ui.input_helper.input_y_n(\"Do you want to book a hotel with a specific number of max guests? (Y or N)\", )\n",
    "if max_guests:\n",
    "    input_max_guests = ui.hotel_ui.get_max_guests_input()\n",
    "else:\n",
    "    input_max_guests = None\n",
    "\n",
    "check_in = ui.input_helper.input_y_n(\"Do you want to book a hotel for a specific check-in and check-out date? (Y or N)\", )\n",
    "if check_in:\n",
    "    av= Booking_manager.read_av_rooms_city(input_city, date(2025,4,14), date(2025,4,11))\n",
    "\n",
    "# Business Logic\n",
    "result = Hotel_manager.get_users_individual_wishes(input_city,stars,max_guests, check_in)\n",
    "\n",
    "# Output\n",
    "if not result:\n",
    "    print(\"No hotels found with your wishes.\")\n",
    "else:\n",
    "    Hotel_manager.print_user_friendly_hotels(result)"
   ]
  },
  {
   "cell_type": "markdown",
   "id": "b107ff6d",
   "metadata": {},
   "source": [
    "Erklärung:\n",
    "\n",
    "UI: In der UI wird mit input_y_n bei jedem wunsch erstmal gefragt ob sie es wollen, wenn nein dann ist die variabel auch None. Sonst kommt man zu den Funktionen von der voherigen Userstories.\n",
    "\n",
    "BL: In der Business Logic wird die Funktion: get_users_individual_wishes benutzt. Jedes Parameter ist auf None, wenn es aber gegeben wird werden die voherigen Funktionen eingesetzt. Dadurch muss der User nicht zwingend einen Wunsch eingeben und kann ganz individuell die Wünsche kombinieren."
   ]
  },
  {
   "cell_type": "markdown",
   "id": "2a05e66b",
   "metadata": {},
   "source": [
    "1.6. Ich möchte die folgenden Informationen pro Hotel\n",
    "sehen: Name, Adresse, Anzahl der Sterne."
   ]
  },
  {
   "cell_type": "code",
   "execution_count": null,
   "id": "33b5c51f",
   "metadata": {},
   "outputs": [],
   "source": [
    "# UI\n",
    "\n",
    "# Business Logic\n",
    "all_hotels = Hotel_manager.read_all_hotels()\n",
    "\n",
    "# Output\n",
    "Hotel_manager.print_user_friendly_hotels(all_hotels)\n"
   ]
  },
  {
   "cell_type": "markdown",
   "id": "09215576",
   "metadata": {},
   "source": [
    "Erklärung:\n",
    "\n",
    "Es werden einfach alle Hotels auf die BL geladen und user friendly geprinted mit den gewünschten Informationen."
   ]
  },
  {
   "cell_type": "markdown",
   "id": "63888183",
   "metadata": {},
   "source": [
    "2. Als Gast möchte ich Details zu verschiedenen Zimmertypen\n",
    "(Single, Double, Suite usw.), die in einem Hotel verfügbar\n",
    "sind, sehen, einschliesslich der maximalen Anzahl von Gästen\n",
    "für dieses Zimmer, Beschreibung, Preis und Ausstattung, um eine\n",
    "fundierte Entscheidung zu treffen.\n",
    "\n",
    "2.1. Ich möchte die folgenden Informationen pro Zimmer \n",
    "sehen: Zimmertyp, max. Anzahl der Gäste, Beschreibung, \n",
    "Ausstattung, Preis pro Nacht und Gesamtpreis."
   ]
  },
  {
   "cell_type": "code",
   "execution_count": null,
   "id": "9a3f5535",
   "metadata": {},
   "outputs": [],
   "source": [
    "#UI + Business Logic\n",
    "input_city = ui.hotel_ui.get_city_no_limit()\n",
    "\n",
    "valid = False\n",
    "while not valid:\n",
    "    hotels_by_city = Hotel_manager.get_hotels_by_city(input_city)\n",
    "    if not hotels_by_city:\n",
    "        print(f\"No hotels found in: {input_city}. Please try again.\")\n",
    "        input_city = ui.hotel_ui.get_city_input()\n",
    "    else:\n",
    "        for i, hotel in enumerate(hotels_by_city, 1):\n",
    "            print(f\"{i}. {ui.hotel_ui.get_user_frendly_hotel_info_short(hotel)}\")\n",
    "        try:\n",
    "            input_idx = ui.input_helper.input_valid_int(\"Select Hotel: \", 1, len(hotels_by_city)) - 1\n",
    "            selected_hotel = hotels_by_city[input_idx]\n",
    "            valid = True\n",
    "        except ui.input_helper.OutOfRangeError as e:\n",
    "            print(f\"Invalid input, please select a number between 1 and {len(hotels_by_city)}.\")\n",
    "        except ValueError as e:\n",
    "            print(\"Invalid input, please enter a valid number.\")\n",
    "\n",
    "# Output\n",
    "print(f\"{selected_hotel.name} has following rooms:\")\n",
    "rooms = Room_manager.get_room_info_user_friendly(selected_hotel.hotel_id)\n",
    "\n",
    "# Output\n",
    "print(rooms)"
   ]
  },
  {
   "cell_type": "markdown",
   "id": "1f336831",
   "metadata": {},
   "source": [
    "Erklärung:\n",
    "\n",
    "UI: Ich habe extra eine neue get_city funktion gemacht, damit der User auch keine City eingeben muss und alle sehen kann. Danach starte ein while loop, in dem die ausgewählten hotels (die in der Stadt sind) aufgelistet werden. Dafür habe ich eine neue funktion gemacht extra um nur Name, Stars und city zu bekommen. Dann soll der User ein Hotel aussuchen. ICh arbeite mit dem Index damit er das richtige wählen kann, und mache es einfach -1 um den Index zu bekommen. OutOfRange ist extra so gestaltet das nur maximal die länge der Liste von Hotels ausgewählt werden kann. Designed wurde es mithilfe vom Coach Phillip.\n",
    "\n",
    "BL: Nachdem das Hotel ausgesucht wurde, wird die funktion get_room_info_user_friendly die mit der hotel_id arbeitet aufgerufen. Am ende wird es einfach noch geprinted."
   ]
  },
  {
   "cell_type": "markdown",
   "id": "c981bc0f",
   "metadata": {},
   "source": [
    "2.2. Ich möchte nur die verfügbaren Zimmer sehen, sofern \n",
    "ich meinen Aufenthalt (von – bis) spezifiziert habe"
   ]
  },
  {
   "cell_type": "code",
   "execution_count": null,
   "id": "42945ae3",
   "metadata": {},
   "outputs": [],
   "source": [
    "av_rooms= Booking_manager.read_all_av_rooms_by_hotel(4, date(2025,9,11), date(2025, 9, 14))\n",
    "print(av_rooms)"
   ]
  },
  {
   "cell_type": "markdown",
   "id": "ecd79898",
   "metadata": {},
   "source": [
    "3. Als Admin des Buchungssystems möchte ich die Möglichkeit haben, \n",
    "Hotelinformationen zu pflegen, um aktuelle Informationen im \n",
    "System zu haben.\n",
    "\n",
    "3.1. Ich möchte neue Hotels zum System hinzufügen"
   ]
  },
  {
   "cell_type": "code",
   "execution_count": null,
   "id": "240592ad",
   "metadata": {},
   "outputs": [],
   "source": [
    "# UI\n",
    "new_name = ui.input_helper.input_valid_string(\"Enter new hotel name: \", 1, 50)\n",
    "new_stars = ui.input_helper.input_valid_int(\"Enter new hotel stars: \", 1, 5)\n",
    "new_adress = ui.input_helper.input_y_n(\"Do you want to create a new adress for the hotel? (Y or N)\", )\n",
    "if new_adress:\n",
    "    new_street = ui.input_helper.input_valid_string(\"Enter new street: \", 1, 50)\n",
    "    new_city = ui.input_helper.input_valid_string(\"Enter new city: \", 1, 20)\n",
    "    new_zip = ui.input_helper.input_valid_string(\"Enter new zip code: \", 1, 20)\n",
    "    new_adress = Adress_manager.create_new_address(new_street, new_city, new_zip)\n",
    "else:\n",
    "    all_adresses = Adress_manager.read_all_addresses()\n",
    "    for i, address in enumerate(all_adresses, 1):\n",
    "        print(f\"{i}. {ui.hotel_ui.get_address_short(address)}\")\n",
    "\n",
    "    new_adress = None\n",
    "    while new_adress is None:\n",
    "        try:\n",
    "            input_idx = ui.input_helper.input_valid_int(\"Select address: \", 1, len(all_adresses)) - 1\n",
    "            new_adress = all_adresses[input_idx]\n",
    "        except ui.input_helper.OutOfRangeError as e:\n",
    "            print(f\"Invalid input, please select a number between 1 and {len(all_adresses)}.\")\n",
    "        except ValueError as e:\n",
    "            print(\"Invalid input, please enter a valid number.\")\n",
    "\n",
    "\n",
    "# Business Logic\n",
    "Hotel_manager.create_new_hotel(new_name, new_stars, new_adress.address_id)\n",
    "\n",
    "        \n",
    "# Output\n",
    "# Im data_access "
   ]
  },
  {
   "cell_type": "markdown",
   "id": "0cbc7240",
   "metadata": {},
   "source": [
    "Erklärung:\n",
    "\n",
    "UI: Der Name und Sterne werden im Input helpern gemacht mit Limits. Bei der Addresse kann man wählen ob man eine neue erstellen möchte: (Dort wird mit weitern input helpern gearbeitet) oder ob man eine bereits bestehende wählen will. Wie bei einer voherigen User Story arbeite ich wieder mit dem Index und einem while loop, bis die neue Addresse gewählt wurde. Mit der neuen Addresse ob neu gemacht oder ausgewählt wird dann ein neues Hotel erstellt. Im DAL ist geregelt das man immer sieht was gerade erstellt wurde und was nun alles in der DB ist.\n",
    "\n",
    "BL: Create new Hotel wird von der BL gemacht. address = \"self._address_data_access.read_address_by_id(address_id)\" hilft um die address_id die als Parameter gebraucht wird um ein neues Hotel zu erstellen. Bedeutet bevor man ein neues Hotel erstellen kann muss man eine Addresse haben."
   ]
  },
  {
   "cell_type": "markdown",
   "id": "8653a8e5",
   "metadata": {},
   "source": [
    "3.2. Ich möchte Hotels aus dem System entfernen\n"
   ]
  },
  {
   "cell_type": "code",
   "execution_count": null,
   "id": "4eeb90c4",
   "metadata": {},
   "outputs": [],
   "source": [
    "# UI\n",
    "all_hotels = Hotel_manager.read_all_hotels()\n",
    "for i, hotel in enumerate(all_hotels, 1):\n",
    "    print(f\"{i}. {ui.hotel_ui.get_user_frendly_hotel_info_short(hotel)}\")\n",
    "\n",
    "found = False\n",
    "while not found:\n",
    "    try:\n",
    "        input_idx = ui.input_helper.input_valid_int(\"Select hotel to delete: \", 1, len(all_hotels)) - 1\n",
    "        selected_hotel = all_hotels[input_idx]\n",
    "        found = True\n",
    "    except ui.input_helper.OutOfRangeError as e:\n",
    "        print(f\"Invalid input, please select a number between 1 and {len(all_hotels)}.\")\n",
    "    except ValueError as e:\n",
    "        print(\"Invalid input, please enter a valid number.\")\n",
    "\n",
    "# Business Logic\n",
    "Hotel_manager.delete_hotel_by_id(selected_hotel.hotel_id)\n",
    "# Output\n",
    "#im Data_access"
   ]
  },
  {
   "cell_type": "markdown",
   "id": "c5d440c7",
   "metadata": {},
   "source": [
    "Erklärung:\n",
    "\n",
    "UI: Der Admin bekommt alle Hotels angezeigt welche im moment in der DB sind. Über den index kann er eins auswählen.\n",
    "\n",
    "BL: Die hotel.id des gewählen hotels wird genutzt um mit der funktion delete_hotel_by_id in dem DAL die DB zu verändern."
   ]
  },
  {
   "cell_type": "markdown",
   "id": "977918f3",
   "metadata": {},
   "source": [
    "3.3. Ich möchte die Informationen bestimmter Hotels \n",
    "aktualisieren, z. B. den Namen, die Sterne usw."
   ]
  },
  {
   "cell_type": "code",
   "execution_count": null,
   "id": "b633ed62",
   "metadata": {},
   "outputs": [],
   "source": [
    "# UI\n",
    "all_hotels = Hotel_manager.read_all_hotels()\n",
    "for i, hotel in enumerate(all_hotels, 1):\n",
    "    print(f\"{i}. {ui.hotel_ui.get_user_frendly_hotel_info_short(hotel)}\")\n",
    "\n",
    "selected_hotel = None\n",
    "while selected_hotel is None:\n",
    "    try:\n",
    "        input_idx = ui.input_helper.input_valid_int(\"Select hotel to update: \", 1, len(all_hotels)) - 1\n",
    "        selected_hotel = all_hotels[input_idx]\n",
    "    except ui.input_helper.OutOfRangeError as e:\n",
    "        print(f\"Invalid input, please select a number between 1 and {len(all_hotels)}.\")\n",
    "    except ValueError as e:\n",
    "        print(\"Invalid input, please enter a valid number.\")\n",
    "\n",
    "print(f\"You selected: {ui.hotel_ui.get_user_frendly_hotel_info_short(selected_hotel)}\")\n",
    "\n",
    "new_name = selected_hotel.name\n",
    "if ui.input_helper.input_y_n(\"Do you want to update the hotel name? (Y or N)\", ):\n",
    "    new_name = ui.input_helper.input_valid_string(\"Enter new hotel name: \", 1, 50)\n",
    "\n",
    "new_stars = selected_hotel.stars\n",
    "if ui.input_helper.input_y_n(\"Do you want to update the hotel stars? (Y or N)\", ):\n",
    "    new_stars = ui.input_helper.input_valid_int(\"Enter new hotel stars: \", 1, 5)\n",
    "\n",
    "new_adress = selected_hotel.address\n",
    "if ui.input_helper.input_y_n(\"Do you want to update the hotel address? (Y or N)\", ):\n",
    "    new_street = ui.input_helper.input_valid_string(\"Enter new street: \", 1, 50)\n",
    "    new_city = ui.input_helper.input_valid_string(\"Enter new city: \", 1, 20)\n",
    "    new_zip = ui.input_helper.input_valid_string(\"Enter new zip code: \", 1, 20)\n",
    "    new_adress = Adress_manager.create_new_address(new_street, new_city, new_zip)\n",
    "else:\n",
    "    all_adresses = Adress_manager.read_all_addresses()\n",
    "    for i, address in enumerate(all_adresses, 1):\n",
    "        print(f\"{i}. {ui.hotel_ui.get_address_short(address)}\")\n",
    "\n",
    "    new_adress = None\n",
    "    while new_adress is None:\n",
    "        try:\n",
    "            input_idx = ui.input_helper.input_valid_int(\"Select address: \", 1, len(all_adresses)) - 1\n",
    "            new_adress = all_adresses[input_idx]\n",
    "        except ui.input_helper.OutOfRangeError as e:\n",
    "            print(f\"Invalid input, please select a number between 1 and {len(all_adresses)}.\")\n",
    "        except ValueError as e:\n",
    "            print(\"Invalid input, please enter a valid number.\")\n",
    "    \n",
    "# Business Logic\n",
    "Hotel_manager.update_hotel(selected_hotel.hotel_id, new_name, new_stars, new_adress.address_id)\n",
    "\n",
    "# Output\n",
    "#im data_access"
   ]
  },
  {
   "cell_type": "markdown",
   "id": "75ccaa1d",
   "metadata": {},
   "source": [
    "Erklärung:\n",
    "\n",
    "UI: Erst muss der Admin ein Hotel wählen, wieder über den Index. Danach wird angezeigt welches Hotel er gewählt hat und er wird gefragt über input_y_n was er ändern will, ob name, stars oder addresse. Wenn er die Addresse ändern will, kann er entweder eine neue erstellen, wie wenn er ein neues Hotel erstellt, oder er kann eine aus der DB wählen und diese mit dem Hotel verknüpfen.\n",
    "\n",
    "BL: Update hotel ist in der BL auf None gesetzt, also die parameter. Im DAL wird dann mit den daten ein neues Hotel Objekt erstellt, welches zu einer anderen FUnktion gegeben wird welches das objekt in die DB einträgt. Ich habe es so gemacht, weil die struktur schon am anfang so war und ich es charmant fand. (kreative Freiheit)"
   ]
  },
  {
   "cell_type": "markdown",
   "id": "024b3ee5",
   "metadata": {},
   "source": [
    "4. Als Gast möchte ich ein Zimmer in einem bestimmten Hotel \n",
    "buchen, um meinen Urlaub zu planen."
   ]
  },
  {
   "cell_type": "code",
   "execution_count": null,
   "id": "549e76e0",
   "metadata": {},
   "outputs": [],
   "source": [
    "# #Hotel nach Namen suchen\n",
    "# hotels = Hotel_manager.read_hotel_by_name(\"National\")\n",
    "# print(hotels)\n",
    "\n",
    "# #Available Rooms suchen\n",
    "# av_rooms= Booking_manager.read_all_av_rooms_by_hotel_id(4, date(2025,9,11), date(2025, 9, 14))\n",
    "# print(av_rooms)\n",
    "\n",
    "# create booking aufrufen\n",
    "booking= Booking_manager.create_new_booking(5, date(2025,5,11), date(2025, 5, 14), 2)\n",
    "Booking_manager.read_all_bookings()\n"
   ]
  },
  {
   "cell_type": "markdown",
   "id": "90fd8fb3",
   "metadata": {},
   "source": [
    "5. Als Gast möchte ich nach meinem Aufenthalt eine Rechnung \n",
    "erhalten, damit ich einen Zahlungsnachweis habe.\n",
    "Hint: Fügt einen Eintrag in der «Invoice» Tabelle hinzu."
   ]
  },
  {
   "cell_type": "code",
   "execution_count": null,
   "id": "b6cf2478",
   "metadata": {},
   "outputs": [],
   "source": [
    "Booking_manager.billing()\n",
    "inv= Invoice_manager.read_all_invoice()\n",
    "print(inv)"
   ]
  },
  {
   "cell_type": "markdown",
   "id": "0286a0c1",
   "metadata": {},
   "source": [
    "6. Als Gast möchte ich meine Buchung stornieren, damit ich nicht \n",
    "belastet werde, wenn ich das Zimmer nicht mehr benötige.\n",
    "Hint: Sorgt für die entsprechende Invoice. "
   ]
  },
  {
   "cell_type": "code",
   "execution_count": null,
   "id": "6c0e2d98",
   "metadata": {},
   "outputs": [],
   "source": [
    "Booking_manager.cancell_booking(3)\n",
    "bo= Booking_manager.read_booking_by_id(3)"
   ]
  },
  {
   "cell_type": "markdown",
   "id": "acb81803",
   "metadata": {},
   "source": [
    "7. Als Gast möchte ich eine dynamische Preisgestaltung auf der \n",
    "Grundlage der Nachfrage sehen, damit ich ein Zimmer zum besten \n",
    "Preis buchen kann.\n",
    "Hint: Wendet in der Hochsaison höhere und in der Nebensaison \n",
    "niedrigere Tarife an."
   ]
  },
  {
   "cell_type": "code",
   "execution_count": null,
   "id": "81d17c99",
   "metadata": {},
   "outputs": [],
   "source": [
    "r = Booking_manager.read_av_rooms(date(2026,4,14), date(2026,4,11))\n",
    "print(r)"
   ]
  },
  {
   "cell_type": "markdown",
   "id": "c1469f4a",
   "metadata": {},
   "source": [
    "8. Als Admin des Buchungssystems möchte ich alle Buchungen aller \n",
    "Hotels sehen können, um eine Übersicht zu erhalten."
   ]
  },
  {
   "cell_type": "code",
   "execution_count": null,
   "id": "b35f2251",
   "metadata": {},
   "outputs": [],
   "source": [
    "t=Booking_manager.read_all_bookings()\n",
    "print(t)"
   ]
  },
  {
   "cell_type": "markdown",
   "id": "4a02ae97",
   "metadata": {},
   "source": [
    "9. Als Admin möchte ich eine Liste der Zimmer mit ihrer \n",
    "Ausstattung sehen, damit ich sie besser bewerben kann.\n"
   ]
  },
  {
   "cell_type": "code",
   "execution_count": null,
   "id": "bdf0e7db",
   "metadata": {},
   "outputs": [],
   "source": [
    "print(Room_manager.get_rooms_for_admin())\n"
   ]
  },
  {
   "cell_type": "markdown",
   "id": "dbd66626",
   "metadata": {},
   "source": [
    "10. Als Admin möchte ich in der Lage sein, Stammdaten zu verwalten, \n",
    "z.B. Zimmertypen, Einrichtungen, und Preise in Echtzeit zu \n",
    "aktualisieren, damit das Backend-System aktuelle Informationen \n",
    "hat. Hint: Stammdaten sind alle Daten, die nicht von anderen Daten \n",
    "abhängen."
   ]
  },
  {
   "cell_type": "code",
   "execution_count": null,
   "id": "b66c8858",
   "metadata": {},
   "outputs": [],
   "source": [
    "#new_room_type = Room_manager.create_new_room_type(\"Test\", 100)\n",
    "\n",
    "#all = Room_manager.read_all_room_types()\n",
    "#print(all)"
   ]
  }
 ],
 "metadata": {
  "kernelspec": {
   "display_name": ".venv",
   "language": "python",
   "name": "python3"
  },
  "language_info": {
   "codemirror_mode": {
    "name": "ipython",
    "version": 3
   },
   "file_extension": ".py",
   "mimetype": "text/x-python",
   "name": "python",
   "nbconvert_exporter": "python",
   "pygments_lexer": "ipython3",
   "version": "3.11.9"
  }
 },
 "nbformat": 4,
 "nbformat_minor": 5
}
