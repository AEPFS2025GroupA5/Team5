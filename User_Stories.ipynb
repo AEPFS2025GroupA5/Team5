{
 "cells": [
  {
   "cell_type": "markdown",
   "id": "2d3333ec",
   "metadata": {},
   "source": [
    "Das Notebook ist dafür da die User Stories auszuführen. Bitte testet sie davor in eurem .main (und macht euer main in das gitignore). Hier also nur funktionierende User Stories!\n",
    "\n",
    "Damit der import richtig funktioniert müsst ihr die init datei des jeweiligen Ordners (model/data_access/business_logic) pflegen."
   ]
  },
  {
   "cell_type": "code",
   "execution_count": 1,
   "id": "15b04bbf",
   "metadata": {},
   "outputs": [],
   "source": [
    "import os\n",
    "import shutil\n",
    "\n",
    "original = \"database/original.db\"\n",
    "working = \"database/hotel_reservation_sample_working.db\"\n",
    "shutil.copyfile(original, working)\n",
    "\n",
    "\n",
    "\n",
    "os.environ[\"DB_FILE\"] = working\n",
    "\n",
    "from datetime import date\n",
    "\n",
    "import business_logic.room_manager\n",
    "import model\n",
    "import data_access\n",
    "import business_logic\n",
    "\n",
    "Hotel_manager = business_logic.HotelManager()\n",
    "Room_manager = business_logic.RoomManager()\n",
    "Booking_manager= business_logic.BookingManager()\n",
    "Invoice_manager = business_logic.InvoiceManager()"
   ]
  },
  {
   "cell_type": "markdown",
   "id": "8f46d608",
   "metadata": {},
   "source": [
    "1. Als Gast möchte ich die verfügbaren Hotels durchsuchen, damit \n",
    "ich dasjenige auswählen kann, welches meinen Wünschen \n",
    "entspricht. Wünsche sind:\n",
    "\n",
    "1.1. Ich möchte alle Hotels in einer Stadt durchsuchen, \n",
    "damit ich das Hotel nach meinem bevorzugten Standort \n",
    "(Stadt) auswählen kann."
   ]
  },
  {
   "cell_type": "code",
   "execution_count": 2,
   "id": "78ce5259",
   "metadata": {},
   "outputs": [
    {
     "name": "stdout",
     "output_type": "stream",
     "text": [
      "Name: Bellevue Palace\n",
      "Street: Marktgasse 59\n",
      "City: Bern\n",
      "Stars: 5\n",
      "\n",
      "Name: Les Trois Rois\n",
      "Street: Freiestrasse 10\n",
      "City: Basel\n",
      "Stars: 5\n",
      "\n"
     ]
    }
   ],
   "source": [
    "by_city = Hotel_manager.get_hotels_by_city(\"B\")\n",
    "Hotel_manager.print_user_friendly_hotels(by_city)"
   ]
  },
  {
   "cell_type": "markdown",
   "id": "0cdc0fc2",
   "metadata": {},
   "source": [
    "1.2. Ich möchte alle Hotels in einer Stadt nach der\n",
    "Anzahl der Sterne (z.B. mindestens 4 Sterne) durchsuchen."
   ]
  },
  {
   "cell_type": "code",
   "execution_count": 3,
   "id": "46d5a2ed",
   "metadata": {},
   "outputs": [
    {
     "name": "stdout",
     "output_type": "stream",
     "text": [
      "Name: Bellevue Palace\n",
      "Street: Marktgasse 59\n",
      "City: Bern\n",
      "Stars: 5\n",
      "\n",
      "Name: Les Trois Rois\n",
      "Street: Freiestrasse 10\n",
      "City: Basel\n",
      "Stars: 5\n",
      "\n"
     ]
    }
   ],
   "source": [
    "by_city_and_stars = Hotel_manager.get_hotels_by_city_and_stars(\"B\",5)\n",
    "Hotel_manager.print_user_friendly_hotels(by_city_and_stars)"
   ]
  },
  {
   "cell_type": "markdown",
   "id": "54f60981",
   "metadata": {},
   "source": [
    "1.3. Ich möchte alle Hotels in einer Stadt durchsuchen,\n",
    "die Zimmer haben, die meiner Gästezahl entsprechen (nur 1\n",
    "Zimmer pro Buchung)."
   ]
  },
  {
   "cell_type": "code",
   "execution_count": 14,
   "id": "031a19a8",
   "metadata": {},
   "outputs": [
    {
     "name": "stdout",
     "output_type": "stream",
     "text": [
      "Name: Hotel Baur au Lac\n",
      "Street: Bahnhofstrasse 1\n",
      "City: Zürich\n",
      "Stars: 5\n",
      "\n"
     ]
    }
   ],
   "source": [
    "by_max_guests = Hotel_manager.get_hotels_by_city_and_max_guests(\"Zürich\", 2)\n",
    "Hotel_manager.print_user_friendly_hotels(by_max_guests)"
   ]
  },
  {
   "cell_type": "markdown",
   "id": "b2dabaff",
   "metadata": {},
   "source": [
    "1.4. Ich möchte alle Hotels in einer Stadt durchsuchen,\n",
    "die während meines Aufenthaltes (\"von\" (check_in_date)\n",
    "und \"bis\" (check_out_date)) Zimmer zur Verfügung haben,\n",
    "damit ich nur relevante Ergebnisse sehe."
   ]
  },
  {
   "cell_type": "code",
   "execution_count": 15,
   "id": "98bf66b0",
   "metadata": {},
   "outputs": [
    {
     "name": "stdout",
     "output_type": "stream",
     "text": [
      "[Room(\n",
      "  ID: 3\n",
      "  Hotel ID: Hotel(\n",
      "  ID: 2\n",
      "  Name: Four Seasons Hôtel des Bergues\n",
      "  Stars: 5\n",
      "  Address ID: Address(\n",
      "  ID: 2\n",
      "  Street: Rue du Rhône 42\n",
      "  City: Genève\n",
      "  Zipcode: 1204\n",
      ")\n",
      "  Rooms: []\n",
      ")\n",
      "  Room Number: 201\n",
      "  Type ID: 3\n",
      "  Price per night: 650.00\n",
      ")]\n"
     ]
    }
   ],
   "source": [
    "h= Booking_manager.read_av_rooms_city(\"gen\", date(2025,4,14), date(2025,4,11))\n",
    "print(h)"
   ]
  },
  {
   "cell_type": "markdown",
   "id": "6a55240c",
   "metadata": {},
   "source": [
    "1.5. Ich möchte Wünsche kombinieren können, z.B. die\n",
    "verfügbaren Zimmer zusammen mit meiner Gästezahl und der\n",
    "mindest Anzahl Sterne."
   ]
  },
  {
   "cell_type": "code",
   "execution_count": 7,
   "id": "9e096b0e",
   "metadata": {},
   "outputs": [
    {
     "name": "stdout",
     "output_type": "stream",
     "text": [
      "No hotels found matching your criteria\n"
     ]
    }
   ],
   "source": [
    "h = Hotel_manager.get_users_individual_wishes(\"Zürich\", 5, 1)\n",
    "print(h)"
   ]
  },
  {
   "cell_type": "markdown",
   "id": "2a05e66b",
   "metadata": {},
   "source": [
    "1.6. Ich möchte die folgenden Informationen pro Hotel\n",
    "sehen: Name, Adresse, Anzahl der Sterne."
   ]
  },
  {
   "cell_type": "markdown",
   "id": "63888183",
   "metadata": {},
   "source": [
    "2. Als Gast möchte ich Details zu verschiedenen Zimmertypen\n",
    "(Single, Double, Suite usw.), die in einem Hotel verfügbar\n",
    "sind, sehen, einschliesslich der maximalen Anzahl von Gästen\n",
    "für dieses Zimmer, Beschreibung, Preis und Ausstattung, um eine\n",
    "fundierte Entscheidung zu treffen.\n",
    "\n",
    "2.1. Ich möchte die folgenden Informationen pro Zimmer \n",
    "sehen: Zimmertyp, max. Anzahl der Gäste, Beschreibung, \n",
    "Ausstattung, Preis pro Nacht und Gesamtpreis."
   ]
  },
  {
   "cell_type": "code",
   "execution_count": 9,
   "id": "9a3f5535",
   "metadata": {},
   "outputs": [
    {
     "name": "stdout",
     "output_type": "stream",
     "text": [
      "[{'Room Number': '101', 'Room Type': 'Single', 'Max Guests': 1, 'Facilities': ['WiFi', 'TV'], 'price_per_night': 250.0}, {'Room Number': '102', 'Room Type': 'Double', 'Max Guests': 2, 'Facilities': ['WiFi'], 'price_per_night': 400.0}]\n"
     ]
    }
   ],
   "source": [
    "all = Room_manager.get_room_info_user_friendly(1)\n",
    "print(all)"
   ]
  },
  {
   "cell_type": "markdown",
   "id": "c981bc0f",
   "metadata": {},
   "source": [
    "2.2. Ich möchte nur die verfügbaren Zimmer sehen, sofern \n",
    "ich meinen Aufenthalt (von – bis) spezifiziert habe"
   ]
  },
  {
   "cell_type": "code",
   "execution_count": null,
   "id": "42945ae3",
   "metadata": {},
   "outputs": [],
   "source": [
    "av_rooms= Booking_manager.read_all_av_rooms(4, date(2025,9,11), date(2025, 9, 14))\n",
    "print(av_rooms)"
   ]
  },
  {
   "cell_type": "markdown",
   "id": "ecd79898",
   "metadata": {},
   "source": [
    "3. Als Admin des Buchungssystems möchte ich die Möglichkeit haben, \n",
    "Hotelinformationen zu pflegen, um aktuelle Informationen im \n",
    "System zu haben.\n",
    "\n",
    "3.1. Ich möchte neue Hotels zum System hinzufügen"
   ]
  },
  {
   "cell_type": "code",
   "execution_count": null,
   "id": "240592ad",
   "metadata": {},
   "outputs": [],
   "source": [
    "#Hotel_manager.create_new_hotel(\"Test Hotel\", 2, 3)\n",
    "show_all = Hotel_manager.read_all_hotels()\n",
    "print(show_all)"
   ]
  },
  {
   "cell_type": "markdown",
   "id": "8653a8e5",
   "metadata": {},
   "source": [
    "3.2. Ich möchte Hotels aus dem System entfernen\n"
   ]
  },
  {
   "cell_type": "code",
   "execution_count": null,
   "id": "4eeb90c4",
   "metadata": {},
   "outputs": [],
   "source": [
    "Hotel_manager.delete_hotel_by_id(9)\n",
    "print(Hotel_manager.read_all_hotels())"
   ]
  },
  {
   "cell_type": "markdown",
   "id": "977918f3",
   "metadata": {},
   "source": [
    "3.3. Ich möchte die Informationen bestimmter Hotels \n",
    "aktualisieren, z. B. den Namen, die Sterne usw."
   ]
  },
  {
   "cell_type": "code",
   "execution_count": null,
   "id": "b633ed62",
   "metadata": {},
   "outputs": [],
   "source": [
    "Hotel_manager.update_hotel(11, \"Updated Hotel\", 1, 2)\n",
    "print(Hotel_manager.read_all_hotels())"
   ]
  },
  {
   "cell_type": "markdown",
   "id": "024b3ee5",
   "metadata": {},
   "source": [
    "4. Als Gast möchte ich ein Zimmer in einem bestimmten Hotel \n",
    "buchen, um meinen Urlaub zu planen."
   ]
  },
  {
   "cell_type": "code",
   "execution_count": null,
   "id": "549e76e0",
   "metadata": {},
   "outputs": [],
   "source": [
    "# #Hotel nach Namen suchen\n",
    "# hotels = Hotel_manager.read_hotel_by_name(\"National\")\n",
    "# print(hotels)\n",
    "\n",
    "# #Available Rooms suchen\n",
    "# av_rooms= Booking_manager.read_all_av_rooms_by_hotel_id(4, date(2025,9,11), date(2025, 9, 14))\n",
    "# print(av_rooms)\n",
    "\n",
    "# create booking aufrufen\n",
    "booking= Booking_manager.create_new_booking(5, date(2025,5,11), date(2025, 5, 14), 2)\n",
    "Booking_manager.read_all_bookings()\n"
   ]
  },
  {
   "cell_type": "markdown",
   "id": "90fd8fb3",
   "metadata": {},
   "source": [
    "5. Als Gast möchte ich nach meinem Aufenthalt eine Rechnung \n",
    "erhalten, damit ich einen Zahlungsnachweis habe.\n",
    "Hint: Fügt einen Eintrag in der «Invoice» Tabelle hinzu."
   ]
  },
  {
   "cell_type": "code",
   "execution_count": null,
   "id": "b6cf2478",
   "metadata": {},
   "outputs": [],
   "source": [
    "Booking_manager.billing()\n",
    "inv= Invoice_manager.read_all_invoice()\n",
    "print(inv)"
   ]
  },
  {
   "cell_type": "markdown",
   "id": "0286a0c1",
   "metadata": {},
   "source": [
    "6. Als Gast möchte ich meine Buchung stornieren, damit ich nicht \n",
    "belastet werde, wenn ich das Zimmer nicht mehr benötige.\n",
    "Hint: Sorgt für die entsprechende Invoice. "
   ]
  },
  {
   "cell_type": "code",
   "execution_count": null,
   "id": "6c0e2d98",
   "metadata": {},
   "outputs": [],
   "source": [
    "Booking_manager.cancell_booking(3)\n",
    "bo= Booking_manager.read_booking_by_id(3)"
   ]
  },
  {
   "cell_type": "markdown",
   "id": "acb81803",
   "metadata": {},
   "source": [
    "7. Als Gast möchte ich eine dynamische Preisgestaltung auf der \n",
    "Grundlage der Nachfrage sehen, damit ich ein Zimmer zum besten \n",
    "Preis buchen kann.\n",
    "Hint: Wendet in der Hochsaison höhere und in der Nebensaison \n",
    "niedrigere Tarife an."
   ]
  },
  {
   "cell_type": "code",
   "execution_count": null,
   "id": "81d17c99",
   "metadata": {},
   "outputs": [],
   "source": [
    "#anna"
   ]
  },
  {
   "cell_type": "markdown",
   "id": "c1469f4a",
   "metadata": {},
   "source": [
    "8. Als Admin des Buchungssystems möchte ich alle Buchungen aller \n",
    "Hotels sehen können, um eine Übersicht zu erhalten."
   ]
  },
  {
   "cell_type": "code",
   "execution_count": null,
   "id": "b35f2251",
   "metadata": {},
   "outputs": [],
   "source": [
    "t=Booking_manager.read_all_bookings()\n",
    "print(t)"
   ]
  },
  {
   "cell_type": "markdown",
   "id": "4a02ae97",
   "metadata": {},
   "source": [
    "9. Als Admin möchte ich eine Liste der Zimmer mit ihrer \n",
    "Ausstattung sehen, damit ich sie besser bewerben kann.\n"
   ]
  },
  {
   "cell_type": "code",
   "execution_count": 3,
   "id": "bdf0e7db",
   "metadata": {},
   "outputs": [
    {
     "name": "stdout",
     "output_type": "stream",
     "text": [
      "[{'Hotel': 'Hotel Baur au Lac', 'Room Number': '101', 'Room Type': 'Single', 'Facilities': ['WiFi', 'TV']}, {'Hotel': 'Hotel Baur au Lac', 'Room Number': '102', 'Room Type': 'Double', 'Facilities': ['WiFi']}, {'Hotel': 'Four Seasons Hôtel des Bergues', 'Room Number': '201', 'Room Type': 'Suite', 'Facilities': ['Air Conditioning']}, {'Hotel': 'Grand Hotel National', 'Room Number': '301', 'Room Type': 'Family Room', 'Facilities': ['Mini Bar']}, {'Hotel': 'Bellevue Palace', 'Room Number': '401', 'Room Type': 'Penthouse', 'Facilities': []}]\n"
     ]
    }
   ],
   "source": [
    "all = Room_manager.get_rooms_for_admin()\n",
    "print(all)"
   ]
  },
  {
   "cell_type": "markdown",
   "id": "dbd66626",
   "metadata": {},
   "source": [
    "10.Als Admin möchte ich in der Lage sein, Stammdaten zu verwalten, \n",
    "z.B. Zimmertypen, Einrichtungen, und Preise in Echtzeit zu \n",
    "aktualisieren, damit das Backend-System aktuelle Informationen \n",
    "hat. Hint: Stammdaten sind alle Daten, die nicht von anderen Daten \n",
    "abhängen."
   ]
  },
  {
   "cell_type": "code",
   "execution_count": null,
   "id": "b66c8858",
   "metadata": {},
   "outputs": [],
   "source": []
  }
 ],
 "metadata": {
  "kernelspec": {
   "display_name": ".venv",
   "language": "python",
   "name": "python3"
  },
  "language_info": {
   "codemirror_mode": {
    "name": "ipython",
    "version": 3
   },
   "file_extension": ".py",
   "mimetype": "text/x-python",
   "name": "python",
   "nbconvert_exporter": "python",
   "pygments_lexer": "ipython3",
   "version": "3.11.9"
  }
 },
 "nbformat": 4,
 "nbformat_minor": 5
}
