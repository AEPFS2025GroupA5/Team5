{
 "cells": [
  {
   "cell_type": "markdown",
   "id": "2d3333ec",
   "metadata": {},
   "source": [
    "Das Notebook ist dafür da die User Stories auszuführen. Bitte testet sie davor in eurem .main (und macht euer main in das gitignore). Hier also nur funktionierende User Stories!\n",
    "\n",
    "Damit der import richtig funktioniert müsst ihr die init datei des jeweiligen Ordners (model/data_access/business_logic) pflegen."
   ]
  },
  {
   "cell_type": "code",
   "execution_count": null,
   "id": "15b04bbf",
   "metadata": {},
   "outputs": [],
   "source": [
    "import os\n",
    "os.environ[\"DB_FILE\"] = os.path.abspath(\"database/hotel_reservation_sample.db\")\n",
    "\n",
    "import model\n",
    "import data_access\n",
    "import business_logic"
   ]
  },
  {
   "cell_type": "markdown",
   "id": "8f46d608",
   "metadata": {},
   "source": [
    "1. Als Gast möchte ich die verfügbaren Hotels durchsuchen, damit \n",
    "ich dasjenige auswählen kann, welches meinen Wünschen \n",
    "entspricht. Wünsche sind:\n",
    "\n",
    "1.1. Ich möchte alle Hotels in einer Stadt durchsuchen, \n",
    "damit ich das Hotel nach meinem bevorzugten Standort \n",
    "(Stadt) auswählen kann.\n",
    "\n",
    "1.2. Ich möchte alle Hotels in einer Stadt nach der \n",
    "Anzahl der Sterne (z.B. mindestens 4 Sterne) durchsuchen.\n",
    "\n",
    "1.3. Ich möchte alle Hotels in einer Stadt durchsuchen, \n",
    "die Zimmer haben, die meiner Gästezahl entsprechen (nur 1 \n",
    "Zimmer pro Buchung).\n",
    "\n",
    "1.4. Ich möchte alle Hotels in einer Stadt durchsuchen, \n",
    "die während meines Aufenthaltes (\"von\" (check_in_date) \n",
    "und \"bis\" (check_out_date)) Zimmer zur Verfügung haben, \n",
    "damit ich nur relevante Ergebnisse sehe.\n",
    "\n",
    "1.5. Ich möchte Wünsche kombinieren können, z.B. die \n",
    "verfügbaren Zimmer zusammen mit meiner Gästezahl und der \n",
    "mindest Anzahl Sterne.\n",
    "\n",
    "1.6. Ich möchte die folgenden Informationen pro Hotel \n",
    "sehen: Name, Adresse, Anzahl der Sterne.\n"
   ]
  },
  {
   "cell_type": "code",
   "execution_count": null,
   "id": "78ce5259",
   "metadata": {},
   "outputs": [],
   "source": [
    "Room_dao = data_access.room_data_access\n",
    "Hotel_dao = data_access.hotel_data_access\n",
    "\n",
    "\n"
   ]
  }
 ],
 "metadata": {
  "kernelspec": {
   "display_name": ".venv",
   "language": "python",
   "name": "python3"
  },
  "language_info": {
   "codemirror_mode": {
    "name": "ipython",
    "version": 3
   },
   "file_extension": ".py",
   "mimetype": "text/x-python",
   "name": "python",
   "nbconvert_exporter": "python",
   "pygments_lexer": "ipython3",
   "version": "3.11.9"
  }
 },
 "nbformat": 4,
 "nbformat_minor": 5
}
