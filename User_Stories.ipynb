{
 "cells": [
  {
   "cell_type": "markdown",
   "id": "2d3333ec",
   "metadata": {},
   "source": [
    "Das Notebook ist dafür da die User Stories auszuführen. Bitte testet sie davor in eurem .main (und macht euer main in das gitignore). Hier also nur funktionierende User Stories!\n",
    "\n",
    "Damit der import richtig funktioniert müsst ihr die init datei des jeweiligen Ordners (model/data_access/business_logic) pflegen."
   ]
  },
  {
   "cell_type": "code",
   "execution_count": 1,
   "id": "15b04bbf",
   "metadata": {},
   "outputs": [],
   "source": [
    "import os\n",
    "os.environ[\"DB_FILE\"] = os.path.abspath(\"database/hotel_reservation_sample.db\")\n",
    "\n",
    "import model\n",
    "import data_access\n",
    "import business_logic\n",
    "\n",
    "Hotel_manager = business_logic.HotelManager()"
   ]
  },
  {
   "cell_type": "markdown",
   "id": "8f46d608",
   "metadata": {},
   "source": [
    "1. Als Gast möchte ich die verfügbaren Hotels durchsuchen, damit \n",
    "ich dasjenige auswählen kann, welches meinen Wünschen \n",
    "entspricht. Wünsche sind:\n",
    "\n",
    "1.1. Ich möchte alle Hotels in einer Stadt durchsuchen, \n",
    "damit ich das Hotel nach meinem bevorzugten Standort \n",
    "(Stadt) auswählen kann."
   ]
  },
  {
   "cell_type": "code",
   "execution_count": 2,
   "id": "78ce5259",
   "metadata": {},
   "outputs": [
    {
     "name": "stdout",
     "output_type": "stream",
     "text": [
      "[Hotel(\n",
      "  ID: 1\n",
      "  Name: Hotel Baur au Lac\n",
      "  Stars: 5\n",
      "  Address ID: Address(\n",
      "  ID: 1\n",
      "  Street: Bahnhofstrasse 1\n",
      "  City: Zürich\n",
      "  Zipcode: 8001\n",
      ")\n",
      "  Rooms: 0\n",
      ")]\n"
     ]
    }
   ],
   "source": [
    "by_city = Hotel_manager.get_hotels_by_city(\"Zürich\")\n",
    "print(by_city)"
   ]
  },
  {
   "cell_type": "markdown",
   "id": "0cdc0fc2",
   "metadata": {},
   "source": [
    "1.2. Ich möchte alle Hotels in einer Stadt nach der\n",
    "Anzahl der Sterne (z.B. mindestens 4 Sterne) durchsuchen."
   ]
  },
  {
   "cell_type": "code",
   "execution_count": 3,
   "id": "46d5a2ed",
   "metadata": {},
   "outputs": [
    {
     "name": "stdout",
     "output_type": "stream",
     "text": [
      "[Hotel(\n",
      "  ID: 4\n",
      "  Name: Bellevue Palace\n",
      "  Stars: 5\n",
      "  Address ID: Address(\n",
      "  ID: 4\n",
      "  Street: Marktgasse 59\n",
      "  City: Bern\n",
      "  Zipcode: 3011\n",
      ")\n",
      "  Rooms: 0\n",
      ")]\n"
     ]
    }
   ],
   "source": [
    "by_city_and_stars = Hotel_manager.get_hotels_by_city_and_stars(\"Bern\", 5)\n",
    "print(by_city_and_stars)"
   ]
  },
  {
   "cell_type": "markdown",
   "id": "54f60981",
   "metadata": {},
   "source": [
    "1.3. Ich möchte alle Hotels in einer Stadt durchsuchen,\n",
    "die Zimmer haben, die meiner Gästezahl entsprechen (nur 1\n",
    "Zimmer pro Buchung)."
   ]
  },
  {
   "cell_type": "code",
   "execution_count": 4,
   "id": "031a19a8",
   "metadata": {},
   "outputs": [
    {
     "name": "stdout",
     "output_type": "stream",
     "text": [
      "No hotels found in Bern with a maximum of 1 guests\n"
     ]
    }
   ],
   "source": [
    "by_max_guests = Hotel_manager.get_hotels_by_city_and_max_guests(\"Bern\", 1)\n",
    "print(by_max_guests)"
   ]
  },
  {
   "cell_type": "markdown",
   "id": "b2dabaff",
   "metadata": {},
   "source": [
    "1.4. Ich möchte alle Hotels in einer Stadt durchsuchen,\n",
    "die während meines Aufenthaltes (\"von\" (check_in_date)\n",
    "und \"bis\" (check_out_date)) Zimmer zur Verfügung haben,\n",
    "damit ich nur relevante Ergebnisse sehe."
   ]
  },
  {
   "cell_type": "code",
   "execution_count": null,
   "id": "98bf66b0",
   "metadata": {},
   "outputs": [],
   "source": []
  },
  {
   "cell_type": "markdown",
   "id": "6a55240c",
   "metadata": {},
   "source": [
    "1.5. Ich möchte Wünsche kombinieren können, z.B. die\n",
    "verfügbaren Zimmer zusammen mit meiner Gästezahl und der\n",
    "mindest Anzahl Sterne."
   ]
  },
  {
   "cell_type": "code",
   "execution_count": null,
   "id": "9e096b0e",
   "metadata": {},
   "outputs": [],
   "source": []
  },
  {
   "cell_type": "markdown",
   "id": "2a05e66b",
   "metadata": {},
   "source": [
    "1.6. Ich möchte die folgenden Informationen pro Hotel\n",
    "sehen: Name, Adresse, Anzahl der Sterne."
   ]
  },
  {
   "cell_type": "code",
   "execution_count": null,
   "id": "d389511d",
   "metadata": {},
   "outputs": [],
   "source": [
    "show_user_friendly = Hotel_manager.read_hotel_userfriendly()\n",
    "for hotels in show_user_friendly:\n",
    "    print(hotels)"
   ]
  },
  {
   "cell_type": "markdown",
   "id": "63888183",
   "metadata": {},
   "source": [
    "2. Als Gast möchte ich Details zu verschiedenen Zimmertypen\n",
    "(Single, Double, Suite usw.), die in einem Hotel verfügbar\n",
    "sind, sehen, einschliesslich der maximalen Anzahl von Gästen\n",
    "für dieses Zimmer, Beschreibung, Preis und Ausstattung, um eine\n",
    "fundierte Entscheidung zu treffen."
   ]
  }
 ],
 "metadata": {
  "kernelspec": {
   "display_name": "base",
   "language": "python",
   "name": "python3"
  },
  "language_info": {
   "codemirror_mode": {
    "name": "ipython",
    "version": 3
   },
   "file_extension": ".py",
   "mimetype": "text/x-python",
   "name": "python",
   "nbconvert_exporter": "python",
   "pygments_lexer": "ipython3",
   "version": "3.12.7"
  }
 },
 "nbformat": 4,
 "nbformat_minor": 5
}
