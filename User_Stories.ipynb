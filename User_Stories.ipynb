{
 "cells": [
  {
   "cell_type": "markdown",
   "id": "2d3333ec",
   "metadata": {},
   "source": [
    "Das Notebook ist zum ausführen der Userstorys. Der erste Block muss immer ausgeführt werden!"
   ]
  },
  {
   "cell_type": "code",
   "execution_count": 1,
   "id": "15b04bbf",
   "metadata": {},
   "outputs": [],
   "source": [
    "import os\n",
    "import shutil\n",
    "\n",
    "original = \"database/original.db\"\n",
    "working = \"database/hotel_reservation_sample_working.db\"\n",
    "shutil.copyfile(original, working)\n",
    "\n",
    "os.environ[\"DB_FILE\"] = working\n",
    "\n",
    "from datetime import date\n",
    "import model\n",
    "import data_access\n",
    "import business_logic\n",
    "import ui\n",
    "\n",
    "Hotel_manager = business_logic.HotelManager()\n",
    "Room_manager = business_logic.RoomManager()\n",
    "Booking_manager= business_logic.BookingManager()\n",
    "Invoice_manager = business_logic.InvoiceManager()\n",
    "Adress_manager = business_logic.AddressManager()\n",
    "Guest_manager= business_logic.GuestManager()\n",
    "\n"
   ]
  },
  {
   "cell_type": "markdown",
   "id": "8f46d608",
   "metadata": {},
   "source": [
    "-------------------------------------------------------------------------------------------------------------------------------------------------------------------------------------------------------------------------------------------------------------------------------------------------\n",
    "## 1. Als Gast möchte ich die verfügbaren Hotels durchsuchen, damit  ich dasjenige auswählen kann, welches meinen Wünschen  entspricht. Wünsche sind:\n",
    "\n",
    "### 1.1. Ich möchte alle Hotels in einer Stadt durchsuchen, damit ich das Hotel nach meinem bevorzugten Standort (Stadt) auswählen kann."
   ]
  },
  {
   "cell_type": "code",
   "execution_count": 2,
   "id": "2ec9059b",
   "metadata": {},
   "outputs": [
    {
     "name": "stdout",
     "output_type": "stream",
     "text": [
      "Name: Hotel Baur au Lac\n",
      "Street: Bahnhofstrasse 1\n",
      "City: Zürich\n",
      "Stars: 5\n",
      "\n"
     ]
    }
   ],
   "source": [
    "# UI\n",
    "input_city = ui.hotel_ui.get_city_input()\n",
    "\n",
    "# Business Logic\n",
    "by_city = Hotel_manager.get_hotels_by_city(input_city)\n",
    "\n",
    "#Output\n",
    "if not by_city:\n",
    "    print(f\"No hotels found in: {input_city}.\")\n",
    "else:\n",
    "    Hotel_manager.print_user_friendly_hotels(by_city)"
   ]
  },
  {
   "cell_type": "markdown",
   "id": "833a2429",
   "metadata": {},
   "source": [
    "Erklärung:\n",
    "\n",
    "UI: In der Hotel UI wird durch get_city_input sichergestellt das mindestens 3 Buchstaben und höchstens 10 eingegeben werden. Durch einen while loop wird es bei falschen input weiter versucht bis ein richtiger kommt.\n",
    "\n",
    "BL: Es werden alle Hotels in die Business Logic (BL) geladen durch self._all_hotels . Dann wird gefiltert nach city.lower() in hotel.address.city.lower(). Dadurch muss man nicht die genaue Stadt ausschreiben."
   ]
  },
  {
   "cell_type": "markdown",
   "id": "0cdc0fc2",
   "metadata": {},
   "source": [
    "-------------------------------------------------------------------------------------------------------------------------------------------------------------------------------------------------------------------------------------------------------------------------------------------------\n",
    "###  1.2. Ich möchte alle Hotels in einer Stadt nach der Anzahl der Sterne (z.B. mindestens 4 Sterne) durchsuchen."
   ]
  },
  {
   "cell_type": "code",
   "execution_count": 3,
   "id": "46d5a2ed",
   "metadata": {},
   "outputs": [
    {
     "name": "stdout",
     "output_type": "stream",
     "text": [
      "Name: Hotel Baur au Lac\n",
      "Street: Bahnhofstrasse 1\n",
      "City: Zürich\n",
      "Stars: 5\n",
      "\n"
     ]
    }
   ],
   "source": [
    "# UI\n",
    "input_city = ui.hotel_ui.get_city_input()\n",
    "input_stars = ui.hotel_ui.get_stars_input()\n",
    "\n",
    "# Business Logic\n",
    "by_city_and_stars = Hotel_manager.get_hotels_by_city_and_stars(input_city,input_stars)\n",
    "\n",
    "# Output\n",
    "if not by_city_and_stars:\n",
    "    print(f\"No hotels found in: {input_city} with {input_stars} stars.\")\n",
    "else:\n",
    "    Hotel_manager.print_user_friendly_hotels(by_city_and_stars)\n"
   ]
  },
  {
   "cell_type": "markdown",
   "id": "82e22c2f",
   "metadata": {},
   "source": [
    "Erklärung:\n",
    "\n",
    "UI: get_city_input() prüft wie zuvor die Gültigkeit des Stadtnamens. get_stars_input() stellt sicher, dass nur Ganzzahlen zwischen 1 und 5 eingegeben werden. Ungültige Eingaben führen zu einer Wiederholung der Abfrage durch eine while True-Schleife.\n",
    "\n",
    "BL: Die Methode get_hotels_by_city_and_stars(city, stars) lädt alle Hotels und filtert mit einer zusätzlichen Bedingung: hotel.address.city.lower() == city.lower() and hotel.stars >= stars. "
   ]
  },
  {
   "cell_type": "markdown",
   "id": "54f60981",
   "metadata": {},
   "source": [
    "-------------------------------------------------------------------------------------------------------------------------------------------------------------------------------------------------------------------------------------------------------------------------------------------------\n",
    "### 1.3. Ich möchte alle Hotels in einer Stadt durchsuchen, die Zimmer haben, die meiner Gästezahl entsprechen (nur 1 Zimmer pro Buchung)."
   ]
  },
  {
   "cell_type": "code",
   "execution_count": 4,
   "id": "031a19a8",
   "metadata": {},
   "outputs": [
    {
     "name": "stdout",
     "output_type": "stream",
     "text": [
      "Name: Hotel Baur au Lac\n",
      "Street: Bahnhofstrasse 1\n",
      "City: Zürich\n",
      "Stars: 5\n",
      "\n"
     ]
    }
   ],
   "source": [
    "# UI\n",
    "input_city = ui.hotel_ui.get_city_input()\n",
    "input_max_guests = ui.hotel_ui.get_max_guests_input()\n",
    "\n",
    "# Business Logic\n",
    "by_max_guests = Hotel_manager.get_hotels_by_city_and_max_guests(input_city, input_max_guests)\n",
    "\n",
    "# Output\n",
    "if not by_max_guests:\n",
    "    print(f\"No hotels found in: {input_city} with max guests: {input_max_guests}.\")\n",
    "else:\n",
    "    Hotel_manager.print_user_friendly_hotels(by_max_guests)"
   ]
  },
  {
   "cell_type": "markdown",
   "id": "ebaf59ab",
   "metadata": {},
   "source": [
    "Erklärung: \n",
    "\n",
    "UI: Wie zuvor wird der Stadtnamen über get_city_input() geprüft. get_max_guests() stellt sicher, dass nur gültige Zahlen (1–50) eingegeben werden, da mehr Gäste in einem Zimmer unrealistisch sind.\n",
    "\n",
    "BL: Im Hotelmanager wird wie vorher nach stadt gesucht. Jetzt wird aber der Room_manager aufgerufen, zuerst mit der funktion \"get_room_details_for_hotel(hotel.hotel_id)\" also werden die rooms mit der hotel.id geholt und dann wird durch \"[room for room in rooms if room.max_guests >= max_guests]\" geprüft ob die max guest gleich oder größer sind. Die passenden Hotels werden dann returned. Ich habe extra nicht die Room infos mitgegeben, da ich es im Hotelmanager klären wollte und der Gast \"alle Hotels in einer Stadt\" durchsuchen will, also als Ouput meiner Interpretation nach die Hotels aufgelistet haben möchte."
   ]
  },
  {
   "cell_type": "markdown",
   "id": "b2dabaff",
   "metadata": {},
   "source": [
    "-------------------------------------------------------------------------------------------------------------------------------------------------------------------------------------------------------------------------------------------------------------------------------------------------\n",
    "### 1.4. Ich möchte alle Hotels in einer Stadt durchsuchen, die während meines Aufenthaltes (\"von\" (check_in_date) und \"bis\" (check_out_date)) Zimmer zur Verfügung haben, damit ich nur relevante Ergebnisse sehe."
   ]
  },
  {
   "cell_type": "code",
   "execution_count": 7,
   "id": "98bf66b0",
   "metadata": {},
   "outputs": [
    {
     "name": "stdout",
     "output_type": "stream",
     "text": [
      "Hotel: Hotel Baur au Lac,5, Zürich, Room number: 101, Room description: Single, Max Guests: 1, Price per night: CHF 250.0\n",
      "Hotel: Hotel Baur au Lac,5, Zürich, Room number: 102, Room description: Double, Max Guests: 2, Price per night: CHF 400.0\n"
     ]
    }
   ],
   "source": [
    "# UI\n",
    "input_city = ui.hotel_ui.get_city_input()\n",
    "input_checkin= ui.booking_ui.get_checkin_date_input()\n",
    "input_checkout= ui.booking_ui.get_checkout_date_input()\n",
    "\n",
    "\n",
    "# Business Logic\n",
    "Hotels= Booking_manager.read_av_rooms_city(input_city, input_checkout, input_checkin)\n",
    "\n",
    "# Output\n",
    "if not Hotels:\n",
    "    print(f\"There are no available rooms in {input_city}\")\n",
    "else:\n",
    "    for hotel in Hotels:\n",
    "        print(ui.booking_ui.get_userfriendly_room(hotel))"
   ]
  },
  {
   "cell_type": "markdown",
   "id": "5284460b",
   "metadata": {},
   "source": [
    "In dieser User Story kann der Gast alle verfügbaren Zimmer in einer bestimmten Stadt durchsuchen, indem er die Stadt sowie ein Check-in- und ein Check-out-Datum angibt. Das System liefert daraufhin eine Übersicht aller verfügbaren Zimmer im gewünschten Zeitraum nur für Hotels in der gewählten Stadt.\n",
    "\n",
    "Zu Beginn wird der Nutzer aufgefordert, eine Stadt sowie ein Check-in- und Check-out-Datum einzugeben. Diese drei Eingaben dienen als Filterkriterien für die Verfügbarkeitsabfrage.\n",
    "\n",
    "Anschliessend wird die Methode read_av_rooms_city(...) mit diesen Eingaben aufgerufen. Sie gibt eine Liste aller verfügbaren Zimmer in der gewünschten Stadt und im angegebenen Zeitraum zurück.\n",
    "\n",
    "Falls Zimmer verfügbar sind, werden sie direkt und benutzerfreundlich mit get_userfriendly_room(...) angezeigt – jeweils mit den wichtigsten Details zum Zimmer. Eine weitere Auswahl oder Schleife erfolgt in dieser Version nicht."
   ]
  },
  {
   "cell_type": "markdown",
   "id": "6a55240c",
   "metadata": {},
   "source": [
    "-------------------------------------------------------------------------------------------------------------------------------------------------------------------------------------------------------------------------------------------------------------------------------------------------\n",
    "### 1.5. Ich möchte Wünsche kombinieren können, z.B. die verfügbaren Zimmer zusammen mit meiner Gästezahl und der mindest Anzahl Sterne."
   ]
  },
  {
   "cell_type": "code",
   "execution_count": 11,
   "id": "9e096b0e",
   "metadata": {},
   "outputs": [
    {
     "name": "stdout",
     "output_type": "stream",
     "text": [
      "Name: Hotel Baur au Lac\n",
      "Street: Bahnhofstrasse 1\n",
      "City: Zürich\n",
      "Stars: 5\n",
      "\n",
      "Name: Grand Hotel National\n",
      "Street: Pilatusstrasse 15\n",
      "City: Luzern\n",
      "Stars: 5\n",
      "\n",
      "Name: Bellevue Palace\n",
      "Street: Marktgasse 59\n",
      "City: Bern\n",
      "Stars: 5\n",
      "\n"
     ]
    }
   ],
   "source": [
    "#UI\n",
    "city = ui.input_helper.input_y_n(\"Do you want to book in a specific city? (Y or N)\", )\n",
    "if city:\n",
    "    input_city = ui.hotel_ui.get_city_input()\n",
    "else: \n",
    "    input_city = None\n",
    "\n",
    "stars = ui.input_helper.input_y_n(\"Do you want to book a hotel with a specific number of stars? (Y or N)\", )\n",
    "if stars:\n",
    "    input_stars = ui.hotel_ui.get_stars_input()\n",
    "else:\n",
    "    input_stars = None\n",
    "\n",
    "max_guests = ui.input_helper.input_y_n(\"Do you want to book a hotel with a specific number of max guests? (Y or N)\", )\n",
    "if max_guests:\n",
    "    input_max_guests = ui.hotel_ui.get_max_guests_input()\n",
    "else:\n",
    "    input_max_guests = None\n",
    "\n",
    "check_dates= ui.input_helper.input_y_n(\"Do you want to search all available rooms with a specific check-in and check-out date? (Y or N)\")\n",
    "if check_dates:\n",
    "    input_checkin= ui.booking_ui.get_checkin_date_input()\n",
    "    input_checkout= ui.booking_ui.get_checkout_date_input()\n",
    "else:\n",
    "    input_checkin = None\n",
    "    input_checkout = None\n",
    "\n",
    "# Business Logic\n",
    "result = Hotel_manager.get_users_individual_wishes(input_city,stars,max_guests, input_checkin, input_checkout)\n",
    "\n",
    "# Output\n",
    "if not result:\n",
    "    print(\"No hotels found with your wishes.\")\n",
    "else:\n",
    "    Hotel_manager.print_user_friendly_hotels(result)"
   ]
  },
  {
   "cell_type": "markdown",
   "id": "b107ff6d",
   "metadata": {},
   "source": [
    "Erklärung:\n",
    "\n",
    "UI: Mit input_y_n() wird der Nutzer gefragt, ob er nach bestimmten Kriterien (z. B. Stadt, Sterne, Gästezahl, Datum) filtern möchte. Nur wenn „Yes“ gewählt wird, wird die jeweilige Eingabefunktion aufgerufen.\n",
    "Ansonsten wird None übergeben – das bedeutet: dieser Filter ist für die Suche nicht aktiv.\n",
    "\n",
    "BL: Die Methode get_users_individual_wishes(...) verarbeitet alle Eingaben.\n",
    "Jeder Parameter wird nur berücksichtigt, wenn er nicht None ist – so kann der Nutzer flexibel eine beliebige Kombination aus Kriterien verwenden. Die Funktion vereint alle Funktionen der voherigen Userstorys."
   ]
  },
  {
   "cell_type": "markdown",
   "id": "2a05e66b",
   "metadata": {},
   "source": [
    "-------------------------------------------------------------------------------------------------------------------------------------------------------------------------------------------------------------------------------------------------------------------------------------------------\n",
    "### 1.6. Ich möchte die folgenden Informationen pro Hotel sehen: Name, Adresse, Anzahl der Sterne."
   ]
  },
  {
   "cell_type": "code",
   "execution_count": 12,
   "id": "33b5c51f",
   "metadata": {},
   "outputs": [
    {
     "name": "stdout",
     "output_type": "stream",
     "text": [
      "Name: Hotel Baur au Lac\n",
      "Street: Bahnhofstrasse 1\n",
      "City: Zürich\n",
      "Stars: 5\n",
      "\n",
      "Name: Four Seasons Hôtel des Bergues\n",
      "Street: Rue du Rhône 42\n",
      "City: Genève\n",
      "Stars: 5\n",
      "\n",
      "Name: Grand Hotel National\n",
      "Street: Pilatusstrasse 15\n",
      "City: Luzern\n",
      "Stars: 5\n",
      "\n",
      "Name: Bellevue Palace\n",
      "Street: Marktgasse 59\n",
      "City: Bern\n",
      "Stars: 5\n",
      "\n",
      "Name: Les Trois Rois\n",
      "Street: Freiestrasse 10\n",
      "City: Basel\n",
      "Stars: 5\n",
      "\n"
     ]
    }
   ],
   "source": [
    "# UI\n",
    "\n",
    "# Business Logic\n",
    "all_hotels = Hotel_manager.read_all_hotels()\n",
    "\n",
    "# Output\n",
    "Hotel_manager.print_user_friendly_hotels(all_hotels)\n"
   ]
  },
  {
   "cell_type": "markdown",
   "id": "09215576",
   "metadata": {},
   "source": [
    "Erklärung:\n",
    "\n",
    "UI: Für diese Anforderung ist keine Benutzereingabe notwendig. Es handelt sich um eine reine Ausgabefunktion.\n",
    "\n",
    "BL: Über die Methode read_all_hotels() werden alle Hotelobjekte aus der Datenbank geladen. Die Informationen enthalten neben Name und Sterne auch die zugehörige Adresse, da diese bereits beim Laden verknüpft wird (z. B. durch einen JOIN oder Objektverknüpfung in der DAL)."
   ]
  },
  {
   "cell_type": "markdown",
   "id": "63888183",
   "metadata": {},
   "source": [
    "\n",
    "-------------------------------------------------------------------------------------------------------------------------------------------------------------------------------------------------------------------------------------------------------------------------------------------------\n",
    "## 2. Als Gast möchte ich Details zu verschiedenen Zimmertypen (Single, Double, Suite usw.), die in einem Hotel verfügbar sind, sehen, einschliesslich der maximalen Anzahl von Gästen für dieses Zimmer, Beschreibung, Preis und Ausstattung, um eine fundierte Entscheidung zu treffen.\n",
    "\n",
    "### 2.1. Ich möchte die folgenden Informationen pro Zimmer  sehen: Zimmertyp, max. Anzahl der Gäste, Beschreibung,  Ausstattung, Preis pro Nacht und Gesamtpreis."
   ]
  },
  {
   "cell_type": "code",
   "execution_count": 14,
   "id": "9a3f5535",
   "metadata": {},
   "outputs": [
    {
     "name": "stdout",
     "output_type": "stream",
     "text": [
      "No hotels found in: moskau. Please try again.\n",
      "No hotels found in: moskau. Please try again.\n",
      "1. Name: Bellevue Palace, Stars: 5, Address: Bern\n",
      "Bellevue Palace has following rooms:\n",
      "Room Number:    401\n",
      "Room Type:      Penthouse\n",
      "Max Guests:     6\n",
      "Facilities:     []\n",
      "Price per Night: 1500.00 CHF\n",
      "----------------------------------------\n",
      "\n"
     ]
    }
   ],
   "source": [
    "#UI + Business Logic\n",
    "input_city = ui.hotel_ui.get_city_no_limit()\n",
    "\n",
    "valid = False\n",
    "while not valid:\n",
    "    hotels_by_city = Hotel_manager.get_hotels_by_city(input_city)\n",
    "    if not hotels_by_city:\n",
    "        print(f\"No hotels found in: {input_city}. Please try again.\")\n",
    "        input_city = ui.hotel_ui.get_city_input()\n",
    "    else:\n",
    "        for i, hotel in enumerate(hotels_by_city, 1):\n",
    "            print(f\"{i}. {ui.hotel_ui.get_user_frendly_hotel_info_short(hotel)}\")\n",
    "        try:\n",
    "            input_idx = ui.input_helper.input_valid_int(\"Select Hotel: \", 1, len(hotels_by_city)) - 1\n",
    "            selected_hotel = hotels_by_city[input_idx]\n",
    "            valid = True\n",
    "        except ui.input_helper.OutOfRangeError as e:\n",
    "            print(f\"Invalid input, please select a number between 1 and {len(hotels_by_city)}.\")\n",
    "        except ValueError as e:\n",
    "            print(\"Invalid input, please enter a valid number.\")\n",
    "\n",
    "# Output\n",
    "print(f\"{selected_hotel.name} has following rooms:\")\n",
    "rooms = Room_manager.get_room_info_user_friendly(selected_hotel.hotel_id)\n",
    "# Output\n",
    "if rooms is None:\n",
    "    print(\"\")\n",
    "else:\n",
    "    for room in rooms:\n",
    "        for key, value in room.items():\n",
    "            print(f\"{key}: {value}\")\n",
    "        print(\"-\"*30)\n",
    "    print(\"-\"*30) "
   ]
  },
  {
   "cell_type": "markdown",
   "id": "1f336831",
   "metadata": {},
   "source": [
    "Erklärung:\n",
    "\n",
    "UI: Zuerst wird der Benutzer gebeten, eine Stadt einzugeben, in der er ein Hotel suchen möchte. Dafür wurde eine eigene Funktion get_city_no_limit() erstellt, bei der keine Eingabebeschränkung in der Länge gilt. Danach wird in einer Schleife geprüft, ob in der angegebenen Stadt Hotels existieren. Wenn keine Hotels gefunden werden, wird der Benutzer erneut zur Eingabe aufgefordert. Falls Hotels vorhanden sind, werden diese in einer nummerierten Liste angezeigt. Damit der Benutzer eines der Hotels gezielt auswählen kann, wird ihm die Liste mit Indexnummern präsentiert (beginnend bei 1 für bessere Lesbarkeit). Um dies umzusetzen, wurde bewusst mit enumerate(..., 1) gearbeitet – dadurch beginnt die Zählung bei 1 statt bei 0. Beim Auswählen des Hotels gibt der Benutzer eine Zahl ein (z. B. 2 für das zweite Hotel). Diese Zahl wird dann intern auf den richtigen Listenindex umgerechnet. Da input_valid_int als Maximalwert len(hotels_by_city) - 1 erwartet, passt der Index zur tatsächlichen Position im Array – die Eingabe wird also sicher auf einen gültigen Listenbereich beschränkt.\n",
    "Um Fehler wie „Index außerhalb des gültigen Bereichs“ zu vermeiden, wird zusätzlich eine eigene Fehlerbehandlung mit OutOfRangeError und ValueError verwendet.\n",
    "\n",
    "Diese Logik zur Indexverarbeitung und Fehlervermeidung wurde gemeinsam mit Coach Phillip überlegt und umgesetzt, um maximale Benutzerfreundlichkeit und Systemsicherheit zu gewährleisten.\n",
    "\n",
    "BL: Sobald ein gültiges Hotel ausgewählt wurde, wird dessen hotel_id an den RoomManager übergeben. Gleichzeitig werden fie Facilities auch mit der Funktion: get_facilities_for_room über die Room_id geholt. \"Gesamtpreis\" kann man nicht anzeigen lassen, da nicht bekannt ist wie langer der Kunde Buchen will. Wir haben die User-Story so verstanden, das es nur um die Zimmer geht und noch keine Buchung vorgenommen wurde. Deshalb können wir auch nur den price per night darstellen.\n",
    "\n",
    "Output: Der Output besteht aus einer Liste von Dictionaries, wobei jedes Dictionary die Informationen eines Zimmers enthält. Um die Ausgabe für den Benutzer leserlicher zu gestalten, wird die Liste mit einer Schleife durchlaufen, und jedes Dictionary wird formatiert untereinander ausgegeben. Dabei werden die einzelnen Schlüssel-Wert-Paare sauber eingerückt und mit einem Trenner (\"-\" * 30) voneinander abgegrenzt.\n",
    "So entsteht ein benutzerfreundliches, strukturiertes Layout"
   ]
  },
  {
   "cell_type": "markdown",
   "id": "c981bc0f",
   "metadata": {},
   "source": [
    "-------------------------------------------------------------------------------------------------------------------------------------------------------------------------------------------------------------------------------------------------------------------------------------------------\n",
    "### 2.2. Ich möchte nur die verfügbaren Zimmer sehen, sofern  ich meinen Aufenthalt (von – bis) spezifiziert habe"
   ]
  },
  {
   "cell_type": "code",
   "execution_count": 17,
   "id": "d0c8394d",
   "metadata": {},
   "outputs": [
    {
     "name": "stdout",
     "output_type": "stream",
     "text": [
      "1. Hotel: Hotel Baur au Lac,5, Zürich, Room number: 101, Room description: Single, Max Guests: 1, Price per night: CHF 250.0\n",
      "2. Hotel: Hotel Baur au Lac,5, Zürich, Room number: 102, Room description: Double, Max Guests: 2, Price per night: CHF 400.0\n",
      "3. Hotel: Grand Hotel National,5, Luzern, Room number: 301, Room description: Family Room, Max Guests: 5, Price per night: CHF 900.0\n",
      "4. Hotel: Bellevue Palace,5, Bern, Room number: 401, Room description: Penthouse, Max Guests: 6, Price per night: CHF 1500.0\n"
     ]
    }
   ],
   "source": [
    "#UI\n",
    "input_checkin= ui.booking_ui.get_checkin_date_input()\n",
    "input_checkout= ui.booking_ui.get_checkout_date_input()\n",
    "\n",
    "valid= False\n",
    "\n",
    "\n",
    "while not valid:\n",
    "    av_rooms= Booking_manager.read_av_rooms(input_checkout, input_checkin)\n",
    "\n",
    "    if av_rooms:\n",
    "        #Output\n",
    "        for i, room in enumerate(av_rooms,1):\n",
    "            print(f\"{i}. {ui.booking_ui.get_userfriendly_room(room)}\")\n",
    "        valid= True     \n",
    "    elif not av_rooms:\n",
    "        print(f\"No rooms were found from {input_checkin} to {input_checkout}\")\n",
    "        try_again= ui.input_helper.input_y_n(\"Do you want to try again? (Y or N)\")\n",
    "        if try_again:\n",
    "            input_checkin= ui.booking_ui.get_checkin_date_input()\n",
    "            input_checkout= ui.booking_ui.get_checkout_date_input()\n",
    "        else:\n",
    "            print(f\"Thank you and see you soon!\")\n",
    "            valid= True"
   ]
  },
  {
   "cell_type": "markdown",
   "id": "49f6f774",
   "metadata": {},
   "source": [
    "Erklärung:\n",
    "In dieser User Story kann der Gast alle verfügbaren Zimmer im Hotelreservierungssystem durchsuchen, indem er ein Check-in- und Check-out-Datum eingibt. Das System liefert daraufhin eine Übersicht aller verfügbaren Hotels und Zimmer im gewählten Zeitraum.\n",
    "\n",
    "Zu Beginn wird der Nutzer aufgeboten einen check in und check out Datum zu definieren. In der while not valid-Schleife wird read_av_rooms() mit den eingegebenen Daten aufgerufen.\n",
    "Wenn Zimmer verfügbar sind: Die gefundenen Zimmer werden nummeriert und benutzerfreundlich angezeigt. Danach wird valid = True gesetzt, die Schleife endet.\n",
    "Bei besetzten Zimmer: Der Nutzer erhält eine Meldung und wird gefragt, ob er es erneut versuchen möchte.\n",
    "\n",
    "\n",
    "Szenario: Nutzer gibt 2025-08-19 als Check In Datum und 2025-08-10 als Check Out Datum\n",
    "\n",
    "Durch die if Klausel am anfang wird gerade direkt gesagt, dass das check in Datum älter sein soll als das check out Datum"
   ]
  },
  {
   "cell_type": "markdown",
   "id": "ecd79898",
   "metadata": {},
   "source": [
    "-------------------------------------------------------------------------------------------------------------------------------------------------------------------------------------------------------------------------------------------------------------------------------------------------\n",
    "## 3. Als Admin des Buchungssystems möchte ich die Möglichkeit haben,  Hotelinformationen zu pflegen, um aktuelle Informationen im  System zu haben.\n",
    "\n",
    "### 3.1. Ich möchte neue Hotels zum System hinzufügen"
   ]
  },
  {
   "cell_type": "code",
   "execution_count": 18,
   "id": "240592ad",
   "metadata": {},
   "outputs": [
    {
     "name": "stdout",
     "output_type": "stream",
     "text": [
      "1. Bahnhofstrasse 1, Zürich, 8001\n",
      "2. Rue du Rhône 42, Genève, 1204\n",
      "3. Pilatusstrasse 15, Luzern, 6003\n",
      "4. Marktgasse 59, Bern, 3011\n",
      "5. Freiestrasse 10, Basel, 4051\n",
      "New hotel created: Hotel(\n",
      "  ID: 6\n",
      "  Name: new\n",
      "  Stars: 5\n",
      "  Address ID: Address(\n",
      "  ID: 5\n",
      "  Street: Freiestrasse 10\n",
      "  City: Basel\n",
      "  Zipcode: 4051\n",
      ")\n",
      ")\n",
      "All hotels in database:\n",
      "Hotel(\n",
      "  ID: 1\n",
      "  Name: Hotel Baur au Lac\n",
      "  Stars: 5\n",
      "  Address ID: Address(\n",
      "  ID: 1\n",
      "  Street: Bahnhofstrasse 1\n",
      "  City: Zürich\n",
      "  Zipcode: 8001\n",
      ")\n",
      ")\n",
      "Hotel(\n",
      "  ID: 2\n",
      "  Name: Four Seasons Hôtel des Bergues\n",
      "  Stars: 5\n",
      "  Address ID: Address(\n",
      "  ID: 2\n",
      "  Street: Rue du Rhône 42\n",
      "  City: Genève\n",
      "  Zipcode: 1204\n",
      ")\n",
      ")\n",
      "Hotel(\n",
      "  ID: 3\n",
      "  Name: Grand Hotel National\n",
      "  Stars: 5\n",
      "  Address ID: Address(\n",
      "  ID: 3\n",
      "  Street: Pilatusstrasse 15\n",
      "  City: Luzern\n",
      "  Zipcode: 6003\n",
      ")\n",
      ")\n",
      "Hotel(\n",
      "  ID: 4\n",
      "  Name: Bellevue Palace\n",
      "  Stars: 5\n",
      "  Address ID: Address(\n",
      "  ID: 4\n",
      "  Street: Marktgasse 59\n",
      "  City: Bern\n",
      "  Zipcode: 3011\n",
      ")\n",
      ")\n",
      "Hotel(\n",
      "  ID: 5\n",
      "  Name: Les Trois Rois\n",
      "  Stars: 5\n",
      "  Address ID: Address(\n",
      "  ID: 5\n",
      "  Street: Freiestrasse 10\n",
      "  City: Basel\n",
      "  Zipcode: 4051\n",
      ")\n",
      ")\n",
      "Hotel(\n",
      "  ID: 6\n",
      "  Name: new\n",
      "  Stars: 5\n",
      "  Address ID: Address(\n",
      "  ID: 5\n",
      "  Street: Freiestrasse 10\n",
      "  City: Basel\n",
      "  Zipcode: 4051\n",
      ")\n",
      ")\n"
     ]
    },
    {
     "data": {
      "text/plain": [
       "Hotel(\n",
       "  ID: 6\n",
       "  Name: new\n",
       "  Stars: 5\n",
       "  Address ID: Address(\n",
       "  ID: 5\n",
       "  Street: Freiestrasse 10\n",
       "  City: Basel\n",
       "  Zipcode: 4051\n",
       ")\n",
       ")"
      ]
     },
     "execution_count": 18,
     "metadata": {},
     "output_type": "execute_result"
    }
   ],
   "source": [
    "# UI\n",
    "new_name = ui.input_helper.input_valid_string(\"Enter new hotel name: \", 1, 50)\n",
    "new_stars = ui.input_helper.input_valid_int(\"Enter new hotel stars: \", 1, 5)\n",
    "new_adress = ui.input_helper.input_y_n(\"Do you want to create a new adress for the hotel? (Y or N)\", )\n",
    "if new_adress:\n",
    "    new_street = ui.input_helper.input_valid_string(\"Enter new street: \", 1, 50)\n",
    "    new_city = ui.input_helper.input_valid_string(\"Enter new city: \", 1, 20)\n",
    "    new_zip = ui.input_helper.input_valid_string(\"Enter new zip code: \", 1, 20)\n",
    "    new_adress = Adress_manager.create_new_address(new_street, new_city, new_zip)\n",
    "else:\n",
    "    all_adresses = Adress_manager.read_all_addresses()\n",
    "    for i, address in enumerate(all_adresses, 1):\n",
    "        print(f\"{i}. {ui.hotel_ui.get_address_short(address)}\")\n",
    "\n",
    "    new_adress = None\n",
    "    while new_adress is None:\n",
    "        try:\n",
    "            input_idx = ui.input_helper.input_valid_int(\"Select address: \", 1, len(all_adresses)) - 1\n",
    "            new_adress = all_adresses[input_idx]\n",
    "        except ui.input_helper.OutOfRangeError as e:\n",
    "            print(f\"Invalid input, please select a number between 1 and {len(all_adresses)}.\")\n",
    "        except ValueError as e:\n",
    "            print(\"Invalid input, please enter a valid number.\")\n",
    "\n",
    "\n",
    "# Business Logic\n",
    "Hotel_manager.create_new_hotel(new_name, new_stars, new_adress.address_id)"
   ]
  },
  {
   "cell_type": "markdown",
   "id": "0cbc7240",
   "metadata": {},
   "source": [
    "Erklärung:\n",
    "\n",
    "UI: Der Benutzer gibt Hotelname und Sterneanzahl ein. Danach wird abgefragt, ob eine neue Adresse erstellt oder eine bestehende ausgewählt werden soll. Bei neuer Adresse werden Straße, Stadt und PLZ erfasst. Bei bestehender Auswahl wird eine Liste angezeigt und per Index ausgewählt – mit Fehlerprüfung. Die idee dahinter war, irgendwann eine DB mit allen Addressen zu haben, also bräuchte man eine möglichkeit nicht immer neue zu erstellen, sondern auch existierende zu verknüpfen.\n",
    "\n",
    "BL: Die Methode create_new_hotel(...) erstellt das Hotel mit Name, Sterne und address_id. Ohne Adresse kann kein Hotel erstellt werden.\n",
    "\n",
    "Output: Das neue Hotel wird in der Datenbank gespeichert. Die Eingabe- und Auswahlstruktur folgt dem gleichen Prinzip wie bei vorherigen User Stories. Sobald eine neues Hotel erstellt wurde, wird es nochmals angezeigt und die gesamte DB der Hotels wird gedruckt, damit der Admin seine Änderung besser nachvollziehen und verfolgen kann."
   ]
  },
  {
   "cell_type": "markdown",
   "id": "8653a8e5",
   "metadata": {},
   "source": [
    "-------------------------------------------------------------------------------------------------------------------------------------------------------------------------------------------------------------------------------------------------------------------------------------------------\n",
    "### 3.2. Ich möchte Hotels aus dem System entfernen\n"
   ]
  },
  {
   "cell_type": "code",
   "execution_count": 19,
   "id": "4eeb90c4",
   "metadata": {},
   "outputs": [
    {
     "name": "stdout",
     "output_type": "stream",
     "text": [
      "1. Name: Hotel Baur au Lac, Stars: 5, Address: Zürich\n",
      "2. Name: Four Seasons Hôtel des Bergues, Stars: 5, Address: Genève\n",
      "3. Name: Grand Hotel National, Stars: 5, Address: Luzern\n",
      "4. Name: Bellevue Palace, Stars: 5, Address: Bern\n",
      "5. Name: Les Trois Rois, Stars: 5, Address: Basel\n",
      "6. Name: new, Stars: 5, Address: Basel\n",
      "Hotel 6 deleted successfully.\n",
      "All hotels in database after deletion:\n",
      "Hotel(\n",
      "  ID: 1\n",
      "  Name: Hotel Baur au Lac\n",
      "  Stars: 5\n",
      "  Address ID: Address(\n",
      "  ID: 1\n",
      "  Street: Bahnhofstrasse 1\n",
      "  City: Zürich\n",
      "  Zipcode: 8001\n",
      ")\n",
      ")\n",
      "Hotel(\n",
      "  ID: 2\n",
      "  Name: Four Seasons Hôtel des Bergues\n",
      "  Stars: 5\n",
      "  Address ID: Address(\n",
      "  ID: 2\n",
      "  Street: Rue du Rhône 42\n",
      "  City: Genève\n",
      "  Zipcode: 1204\n",
      ")\n",
      ")\n",
      "Hotel(\n",
      "  ID: 3\n",
      "  Name: Grand Hotel National\n",
      "  Stars: 5\n",
      "  Address ID: Address(\n",
      "  ID: 3\n",
      "  Street: Pilatusstrasse 15\n",
      "  City: Luzern\n",
      "  Zipcode: 6003\n",
      ")\n",
      ")\n",
      "Hotel(\n",
      "  ID: 4\n",
      "  Name: Bellevue Palace\n",
      "  Stars: 5\n",
      "  Address ID: Address(\n",
      "  ID: 4\n",
      "  Street: Marktgasse 59\n",
      "  City: Bern\n",
      "  Zipcode: 3011\n",
      ")\n",
      ")\n",
      "Hotel(\n",
      "  ID: 5\n",
      "  Name: Les Trois Rois\n",
      "  Stars: 5\n",
      "  Address ID: Address(\n",
      "  ID: 5\n",
      "  Street: Freiestrasse 10\n",
      "  City: Basel\n",
      "  Zipcode: 4051\n",
      ")\n",
      ")\n"
     ]
    }
   ],
   "source": [
    "# UI\n",
    "all_hotels = Hotel_manager.read_all_hotels()\n",
    "for i, hotel in enumerate(all_hotels, 1):\n",
    "    print(f\"{i}. {ui.hotel_ui.get_user_frendly_hotel_info_short(hotel)}\")\n",
    "\n",
    "found = False\n",
    "while not found:\n",
    "    try:\n",
    "        input_idx = ui.input_helper.input_valid_int(\"Select hotel to delete: \", 1, len(all_hotels)) - 1\n",
    "        selected_hotel = all_hotels[input_idx]\n",
    "        found = True\n",
    "    except ui.input_helper.OutOfRangeError as e:\n",
    "        print(f\"Invalid input, please select a number between 1 and {len(all_hotels)}.\")\n",
    "    except ValueError as e:\n",
    "        print(\"Invalid input, please enter a valid number.\")\n",
    "\n",
    "# Business Logic\n",
    "Hotel_manager.delete_hotel_by_id(selected_hotel.hotel_id)\n",
    "\n"
   ]
  },
  {
   "cell_type": "markdown",
   "id": "c5d440c7",
   "metadata": {},
   "source": [
    "Erklärung:\n",
    "\n",
    "UI: Dem Admin wird eine nummerierte Liste aller Hotels angezeigt, die aktuell in der Datenbank gespeichert sind. Die Darstellung erfolgt über enumerate(..., 1) zur besseren Lesbarkeit.\n",
    "Der Benutzer kann per Zahl eines der Hotels auswählen. Die Eingabe wird durch eine while-Schleife sowie OutOfRangeError und ValueError geprüft, damit nur gültige Einträge verarbeitet werden.\n",
    "\n",
    "BL: Sobald ein gültiges Hotel gewählt wurde, wird dessen hotel_id übergeben an delete_hotel_by_id(...). Diese Funktion ruft intern die entsprechende Methode in der DAL auf, um das Hotel dauerhaft aus der Datenbank zu löschen.\n",
    "\n",
    "Output: Es wir gezeigt welches Hotel gelöscht wurde und wieder eine print aller Hotels in der DB, damit der Admin seine Löschung dirket sieht und dessen Auswirkungen."
   ]
  },
  {
   "cell_type": "markdown",
   "id": "977918f3",
   "metadata": {},
   "source": [
    "-------------------------------------------------------------------------------------------------------------------------------------------------------------------------------------------------------------------------------------------------------------------------------------------------\n",
    "### 3.3. Ich möchte die Informationen bestimmter Hotels aktualisieren, z. B. den Namen, die Sterne usw."
   ]
  },
  {
   "cell_type": "code",
   "execution_count": 20,
   "id": "b633ed62",
   "metadata": {},
   "outputs": [
    {
     "name": "stdout",
     "output_type": "stream",
     "text": [
      "1. Name: Hotel Baur au Lac, Stars: 5, Address: Zürich\n",
      "2. Name: Four Seasons Hôtel des Bergues, Stars: 5, Address: Genève\n",
      "3. Name: Grand Hotel National, Stars: 5, Address: Luzern\n",
      "4. Name: Bellevue Palace, Stars: 5, Address: Bern\n",
      "5. Name: Les Trois Rois, Stars: 5, Address: Basel\n",
      "You selected: Name: Les Trois Rois, Stars: 5, Address: Basel\n"
     ]
    },
    {
     "ename": "ValueError",
     "evalue": "Invalid input. Please enter a valid number.",
     "output_type": "error",
     "traceback": [
      "\u001b[31m---------------------------------------------------------------------------\u001b[39m",
      "\u001b[31mValueError\u001b[39m                                Traceback (most recent call last)",
      "\u001b[36mFile \u001b[39m\u001b[32mc:\\Users\\amuel\\acmerepos\\Team5\\ui\\input_helper.py:69\u001b[39m, in \u001b[36minput_valid_int\u001b[39m\u001b[34m(prompt, min_value, max_value, default)\u001b[39m\n\u001b[32m     68\u001b[39m \u001b[38;5;28;01mtry\u001b[39;00m:\n\u001b[32m---> \u001b[39m\u001b[32m69\u001b[39m     value = \u001b[38;5;28;43mint\u001b[39;49m\u001b[43m(\u001b[49m\u001b[43muser_input\u001b[49m\u001b[43m)\u001b[49m  \u001b[38;5;66;03m# Versuch, die Eingabe in eine Zahl umzuwandeln\u001b[39;00m\n\u001b[32m     70\u001b[39m \u001b[38;5;28;01mexcept\u001b[39;00m \u001b[38;5;167;01mValueError\u001b[39;00m \u001b[38;5;28;01mas\u001b[39;00m err:\n",
      "\u001b[31mValueError\u001b[39m: invalid literal for int() with base 10: 'sdf'",
      "\nThe above exception was the direct cause of the following exception:\n",
      "\u001b[31mValueError\u001b[39m                                Traceback (most recent call last)",
      "\u001b[36mCell\u001b[39m\u001b[36m \u001b[39m\u001b[32mIn[20]\u001b[39m\u001b[32m, line 24\u001b[39m\n\u001b[32m     22\u001b[39m new_stars = selected_hotel.stars\n\u001b[32m     23\u001b[39m \u001b[38;5;28;01mif\u001b[39;00m ui.input_helper.input_y_n(\u001b[33m\"\u001b[39m\u001b[33mDo you want to update the hotel stars? (Y or N)\u001b[39m\u001b[33m\"\u001b[39m, ):\n\u001b[32m---> \u001b[39m\u001b[32m24\u001b[39m     new_stars = \u001b[43mui\u001b[49m\u001b[43m.\u001b[49m\u001b[43minput_helper\u001b[49m\u001b[43m.\u001b[49m\u001b[43minput_valid_int\u001b[49m\u001b[43m(\u001b[49m\u001b[33;43m\"\u001b[39;49m\u001b[33;43mEnter new hotel stars: \u001b[39;49m\u001b[33;43m\"\u001b[39;49m\u001b[43m,\u001b[49m\u001b[43m \u001b[49m\u001b[32;43m1\u001b[39;49m\u001b[43m,\u001b[49m\u001b[43m \u001b[49m\u001b[32;43m5\u001b[39;49m\u001b[43m)\u001b[49m\n\u001b[32m     26\u001b[39m new_adress = selected_hotel.address\n\u001b[32m     27\u001b[39m \u001b[38;5;28;01mif\u001b[39;00m ui.input_helper.input_y_n(\u001b[33m\"\u001b[39m\u001b[33mDo you want to update the hotel address? (Y or N)\u001b[39m\u001b[33m\"\u001b[39m, ):\n",
      "\u001b[36mFile \u001b[39m\u001b[32mc:\\Users\\amuel\\acmerepos\\Team5\\ui\\input_helper.py:71\u001b[39m, in \u001b[36minput_valid_int\u001b[39m\u001b[34m(prompt, min_value, max_value, default)\u001b[39m\n\u001b[32m     69\u001b[39m     value = \u001b[38;5;28mint\u001b[39m(user_input)  \u001b[38;5;66;03m# Versuch, die Eingabe in eine Zahl umzuwandeln\u001b[39;00m\n\u001b[32m     70\u001b[39m \u001b[38;5;28;01mexcept\u001b[39;00m \u001b[38;5;167;01mValueError\u001b[39;00m \u001b[38;5;28;01mas\u001b[39;00m err:\n\u001b[32m---> \u001b[39m\u001b[32m71\u001b[39m     \u001b[38;5;28;01mraise\u001b[39;00m \u001b[38;5;167;01mValueError\u001b[39;00m(\u001b[33m\"\u001b[39m\u001b[33mInvalid input. Please enter a valid number.\u001b[39m\u001b[33m\"\u001b[39m) \u001b[38;5;28;01mfrom\u001b[39;00m\u001b[38;5;250m \u001b[39m\u001b[34;01merr\u001b[39;00m  \u001b[38;5;66;03m# Exception-Chaining\u001b[39;00m\n\u001b[32m     73\u001b[39m \u001b[38;5;28;01mif\u001b[39;00m value < min_value \u001b[38;5;129;01mor\u001b[39;00m value > max_value:\n\u001b[32m     74\u001b[39m     \u001b[38;5;28;01mraise\u001b[39;00m OutOfRangeError(value, min_value, max_value)  \u001b[38;5;66;03m# Eigene Exception für Werte außerhalb des Bereichs\u001b[39;00m\n",
      "\u001b[31mValueError\u001b[39m: Invalid input. Please enter a valid number."
     ]
    }
   ],
   "source": [
    "# UI\n",
    "all_hotels = Hotel_manager.read_all_hotels()\n",
    "for i, hotel in enumerate(all_hotels, 1):\n",
    "    print(f\"{i}. {ui.hotel_ui.get_user_frendly_hotel_info_short(hotel)}\")\n",
    "\n",
    "selected_hotel = None\n",
    "while selected_hotel is None:\n",
    "    try:\n",
    "        input_idx = ui.input_helper.input_valid_int(\"Select hotel to update: \", 1, len(all_hotels)) - 1\n",
    "        selected_hotel = all_hotels[input_idx]\n",
    "    except ui.input_helper.OutOfRangeError as e:\n",
    "        print(f\"Invalid input, please select a number between 1 and {len(all_hotels)}.\")\n",
    "    except ValueError as e:\n",
    "        print(\"Invalid input, please enter a valid number.\")\n",
    "\n",
    "print(f\"You selected: {ui.hotel_ui.get_user_frendly_hotel_info_short(selected_hotel)}\")\n",
    "\n",
    "new_name = selected_hotel.name\n",
    "if ui.input_helper.input_y_n(\"Do you want to update the hotel name? (Y or N)\", ):\n",
    "    new_name = ui.input_helper.input_valid_string(\"Enter new hotel name: \", 1, 50)\n",
    "\n",
    "new_stars = selected_hotel.stars\n",
    "if ui.input_helper.input_y_n(\"Do you want to update the hotel stars? (Y or N)\", ):\n",
    "    new_stars = ui.input_helper.input_valid_int(\"Enter new hotel stars: \", 1, 5)\n",
    "\n",
    "new_adress = selected_hotel.address\n",
    "if ui.input_helper.input_y_n(\"Do you want to update the hotel address? (Y or N)\", ):\n",
    "    all_adresses = Adress_manager.read_all_addresses()\n",
    "    for i, address in enumerate(all_adresses, 1):\n",
    "        print(f\"{i}. {ui.hotel_ui.get_address_short(address)}\")\n",
    "    new_adress = None\n",
    "    while new_adress is None:\n",
    "        try:\n",
    "            input_idx = ui.input_helper.input_valid_int(\"Select address: \", 1, len(all_adresses)) - 1\n",
    "            new_adress = all_adresses[input_idx]\n",
    "        except ui.input_helper.OutOfRangeError as e:\n",
    "            print(f\"Invalid input, please select a number between 1 and {len(all_adresses)}.\")\n",
    "        except ValueError as e:\n",
    "            print(\"Invalid input, please enter a valid number.\")\n",
    "    \n",
    "# Business Logic\n",
    "Hotel_manager.update_hotel(selected_hotel.hotel_id, new_name, new_stars, new_adress.address_id)"
   ]
  },
  {
   "cell_type": "markdown",
   "id": "75ccaa1d",
   "metadata": {},
   "source": [
    "Erklärung:\n",
    "\n",
    "UI: Zuerst wählt der Admin über eine durchnummerierte Liste ein Hotel aus, das er bearbeiten möchte. Danach wird er gezielt gefragt, ob er einzelne Felder aktualisieren will: Name, Sterne oder Adresse. Für jede Änderung wird input_y_n() verwendet. Je nach Antwort wird entweder der aktuelle Wert beibehalten oder ein neuer über die passenden Input-Helper abgefragt. Wenn eine neue Adresse gesetzt werden soll, kann der Benutzer aus bestehenden Adressen wählen. Diese werden ebenfalls mit Index gelistet, und die Auswahl erfolgt mit Fehlerprüfung – genau wie zur Erstellung eines Hotels.\n",
    "\n",
    "BL: Am Ende werden alle gesammelten neuen Werte an die Methode update_hotel(...) übergeben. Diese Funktion aktualisiert das Hotelobjekt entsprechend und speichert die Änderungen über die DAL in der Datenbank. Die Struktur folgt bewusst dem gleichen Prinzip wie bei create_new_hotel(...), um Wiederverwendbarkeit und klare Logik zu gewährleisten.\n",
    "\n",
    "Output: Es wir sowohl bei der wahl des Hotels als auch bei der Änderung angezeigt welches Hotel im Moment bearbeitet wird um Fehler zu vermeiden. Wie davor wird am Ende eine Liste mit allen Hotels in der DB geprinted damit der Admin seine Änderung in Real Time sehen kann."
   ]
  },
  {
   "cell_type": "markdown",
   "id": "024b3ee5",
   "metadata": {},
   "source": [
    "-------------------------------------------------------------------------------------------------------------------------------------------------------------------------------------------------------------------------------------------------------------------------------------------------\n",
    "## 4. Als Gast möchte ich ein Zimmer in einem bestimmten Hotel buchen, um meinen Urlaub zu planen."
   ]
  },
  {
   "cell_type": "code",
   "execution_count": 22,
   "id": "de422ea6",
   "metadata": {},
   "outputs": [
    {
     "name": "stdout",
     "output_type": "stream",
     "text": [
      "1. Name: Hotel Baur au Lac, Stars: 5, Address: Zürich\n",
      "Hotel Baur au Lac has following available rooms:\n",
      "1. Hotel: Hotel Baur au Lac,5, Zürich, Room number: 102, Room description: Double, Max Guests: 2, Price per night: CHF 400.0\n",
      "You are staying from 2025-08-20 to 2025-08-22\n",
      "\n",
      "\n",
      "Thank you for your booking!\n",
      "   Base Price (2.00 nights at CHF 800.00 ): CHF 1600.00 incl. VAT 8.1%\n",
      "   Seasonal Fee: CHF 800.0\n",
      "   Administrative Fee: CHF 160.00 incl. VAT 8.1%\n",
      "-------------------------------------------\n",
      "   Subtotal: 1628.12\n",
      "   VAT (8.1%): CHF 131.88 \n",
      "   Total Amount: CHF 1760.00 \n"
     ]
    }
   ],
   "source": [
    "input_guest = ui.input_helper.input_y_n(\"Are you a new guest? (Y or N)\")\n",
    "\n",
    "if input_guest:\n",
    "    success = False\n",
    "    while not success:\n",
    "        input_first_name = ui.booking_ui.get_guest_firstname()\n",
    "        input_last_name = ui.booking_ui.get_guest_lastname()\n",
    "        input_email = ui.input_helper.input_valid_string(\"Enter your email\", 3, 254)\n",
    "\n",
    "        input_add = ui.input_helper.input_y_n(\"Do you want to create a new address? (Y or N)\")\n",
    "        \n",
    "        if input_add:\n",
    "            new_street = ui.input_helper.input_valid_string(\"Enter new street: \", 1, 50)\n",
    "            new_city = ui.input_helper.input_valid_string(\"Enter new city: \", 1, 20)\n",
    "            new_zip = ui.input_helper.input_valid_string(\"Enter new zip code: \", 1, 20)\n",
    "            new_address = Adress_manager.create_new_address(new_street, new_city, new_zip)\n",
    "        else:\n",
    "            all_addresses = Adress_manager.read_all_addresses()\n",
    "            for i, address in enumerate(all_addresses, 1):\n",
    "                print(f\"{i}. {ui.hotel_ui.get_address_short(address)}\")\n",
    "\n",
    "            new_address = None\n",
    "            while new_address is None:\n",
    "                try:\n",
    "                    input_idx = ui.input_helper.input_valid_int(\"Select address: \", 1, len(all_addresses)) - 1\n",
    "                    new_address = all_addresses[input_idx]\n",
    "                except ui.input_helper.OutOfRangeError:\n",
    "                    print(f\"Invalid input, please select a number between 1 and {len(all_addresses)}.\")\n",
    "                except ValueError:\n",
    "                    print(\"Invalid input, please enter a valid number.\")\n",
    "\n",
    "        try:\n",
    "            guest = Guest_manager.create_new_guest(\n",
    "                input_first_name, input_last_name, input_email, new_address.address_id\n",
    "            )\n",
    "            print(f\"You're now in our system, {guest.first_name}!\")\n",
    "            print(\"Restarting the console\")\n",
    "            success = True  \n",
    "            valid=True\n",
    "        except ValueError as e:\n",
    "            print(f\"Error: {e}\")\n",
    "            print(\"Please try again with different details.\\n\")\n",
    "else:\n",
    "    input_first_name = ui.booking_ui.get_guest_firstname()\n",
    "    input_last_name = ui.booking_ui.get_guest_lastname()\n",
    "\n",
    "    valid= False\n",
    "\n",
    "while not valid:\n",
    "    guests = Booking_manager.get_guests_by_last_and_firstname(input_last_name, input_first_name)\n",
    "    if guests:\n",
    "        guest = guests[0] \n",
    "        break \n",
    "    print(\"You weren't found in our systems. Please try again.\")\n",
    "    input_first_name = ui.booking_ui.get_guest_firstname()\n",
    "    input_last_name = ui.booking_ui.get_guest_lastname()\n",
    "\n",
    "input_city = ui.hotel_ui.get_city_no_limit()\n",
    "input_checkin = ui.booking_ui.get_checkin_date_input()\n",
    "input_checkout = ui.booking_ui.get_checkout_date_input()\n",
    "\n",
    "if input_checkout <= input_checkin:\n",
    "    print(\"Check-out must be after check-in. Please enter dates again.\")\n",
    "    input_checkin = ui.booking_ui.get_checkin_date_input()\n",
    "    input_checkout = ui.booking_ui.get_checkout_date_input()\n",
    "\n",
    "\n",
    "found = False \n",
    "\n",
    "while not found:\n",
    "    hotels_by_city = Hotel_manager.get_hotels_by_city(input_city)\n",
    "\n",
    "    if hotels_by_city:\n",
    "        for i, hotel in enumerate(hotels_by_city, 1):\n",
    "            print(f\"{i}. {ui.hotel_ui.get_user_frendly_hotel_info_short(hotel)}\")\n",
    "\n",
    "        try:\n",
    "            input_idx = ui.input_helper.input_valid_int(\"Select Hotel: \", 1, len(hotels_by_city)) - 1\n",
    "            selected_hotel = hotels_by_city[input_idx]\n",
    "\n",
    "            print(f\"{selected_hotel.name} has following available rooms:\")\n",
    "            av_rooms = Booking_manager.read_all_av_rooms_by_hotel(selected_hotel.hotel_id, input_checkout, input_checkin)\n",
    "\n",
    "            if av_rooms:\n",
    "                for i, room in enumerate(av_rooms, 1):\n",
    "                    print(f\"{i}. {ui.booking_ui.get_userfriendly_room(room)}\")\n",
    "\n",
    "                try:\n",
    "                    input_idx = ui.input_helper.input_valid_int(\"Select Room: \", 1, len(av_rooms)) - 1\n",
    "                    selected_room = av_rooms[input_idx]\n",
    "                    print(f\"You are staying from {input_checkin} to {input_checkout}\")\n",
    "                    print(\"\\n\")\n",
    "                    booking = Booking_manager.create_new_booking(\n",
    "                        selected_room.room_id,\n",
    "                        input_checkin,\n",
    "                        input_checkout,\n",
    "                        guest.guest_id\n",
    "                    )\n",
    "                    found = True  \n",
    "                except ui.input_helper.OutOfRangeError:\n",
    "                    print(f\"Invalid input. Please select a number between 1 and {len(av_rooms)}.\")\n",
    "                # except ValueError:\n",
    "                #     print(\"Invalid input. Please enter a valid number.\")\n",
    "            else:\n",
    "                print(f\"No rooms found in: {selected_hotel.name}. Please enter a new city, check in or check out date\")\n",
    "                input_city = ui.hotel_ui.get_city_no_limit()\n",
    "                input_checkin = ui.booking_ui.get_checkin_date_input()\n",
    "                input_checkout = ui.booking_ui.get_checkout_date_input()\n",
    "        except ui.input_helper.OutOfRangeError:\n",
    "            print(f\"Invalid input, please select a number between 1 and {len(hotels_by_city)}.\")\n",
    "        except ValueError:\n",
    "            print(\"Invalid input, please enter a valid number.\")\n",
    "    else:\n",
    "        print(f\"No hotels found in: {input_city}. Please try again.\")\n",
    "        input_city = ui.hotel_ui.get_city_input()"
   ]
  },
  {
   "cell_type": "markdown",
   "id": "a35afebd",
   "metadata": {},
   "source": [
    "Erklärung:\n",
    "In dieser Funktion gibt der Gast zunächst seinen Vor- und Nachnamen ein, um später ein Zimmer buchen zu können.\n",
    "Das Programm sucht in einer Schleife mithilfe von get_guests_by_last_and_firstname nach passenden Gästen. Wird mindestens ein Treffer gefunden, wird der erste als gültig angenommen (Hinweis: Es ist uns bewusst, dass es mehrere Gäste mit gleichem Namen geben könnte. Wir haben dies aus Zeitgründen ignoriert aber wenn wir noch mehr Zeit hätten, hätten wir Login Daten den Kunden zugewiesen und es in der Datenbank gespeichert.). Andernfalls wird der Nutzer zur erneuten Eingabe aufgefordert.\n",
    "\n",
    "Nach erfolgreicher Identifizierung fragt das System nach Stadt, Check-in und Check-out-Datum.\n",
    "Anschliessend sucht das Programm mit get_hotels_by_city nach Hotels in der gewünschten Stadt. Wenn keine gefunden werden, wird der Nutzer gebeten, eine andere Stadt einzugeben. Sobald Hotels vorliegen, wählt der Nutzer eines aus.\n",
    "\n",
    "Danach ruft das System read_all_av_rooms_by_hotel auf, um verfügbare Zimmer für das gewählte Hotel und den Zeitraum zu finden. Wenn keine vorhanden sind, beginnt die Auswahl erneut.\n",
    "Bei verfügbaren Zimmern kann der Nutzer eines auswählen. Anschliessend wird die Buchung erstellt und alle Preise (inkl. saisonaler Aufschläge) angezeigt.\n",
    "\n",
    "Szenario: Wenn der Kunde Check In Datum später nimmt als Check Out Datum\n",
    "-> TODO ist nicht abgedeckt vermutlich diese Prüfung rein tun:\n",
    "if input_checkout <= input_checkin:\n",
    "    print(\"Check-out must be after check-in. Please enter dates again.\")\n",
    "    input_checkin = ui.booking_ui.get_checkin_date_input()\n",
    "    input_checkout = ui.booking_ui.get_checkout_date_input()\n",
    "\n",
    "Szenario: Irgendwie av_rooms stimmt nicht. Booking Manager stimm die Ausgabe, aber bei UI nicht?????????"
   ]
  },
  {
   "cell_type": "markdown",
   "id": "d0ff67fc",
   "metadata": {},
   "source": [
    "##Erklärung? und Unten. Man sollte auch keinen Namen eingewben müssen (maybe Index liste) damit man es besser Prüfen kann. Ich habe zb keine Ahnung wie die Guests im System heißen...\n"
   ]
  },
  {
   "cell_type": "markdown",
   "id": "90fd8fb3",
   "metadata": {},
   "source": [
    "## 5. Als Gast möchte ich nach meinem Aufenthalt eine Rechnung  erhalten, damit ich einen Zahlungsnachweis habe. Hint: Fügt einen Eintrag in der «Invoice» Tabelle hinzu."
   ]
  },
  {
   "cell_type": "code",
   "execution_count": 23,
   "id": "2190c917",
   "metadata": {},
   "outputs": [
    {
     "name": "stdout",
     "output_type": "stream",
     "text": [
      "1. Booking ID: 6, Check- In: 2025-08-20, Check-Out: 2025-08-22, Total Amount: 1100.0, Cancelled: False, Booked in: Hotel Baur au Lac Room: 101, Invoice: No Invoice\n",
      "2. Booking ID: 7, Check- In: 2025-08-20, Check-Out: 2025-08-22, Total Amount: 1760.0, Cancelled: False, Booked in: Hotel Baur au Lac Room: 102, Invoice: No Invoice\n",
      "Invoice created for booking 6 (CHF 1100.00)\n",
      "   Subtotal of Invoice: 1017.58\n",
      "   MwSt (8.1%): CHF 82.42 \n",
      "   Gesamtbetrag: CHF 1100.00 \n",
      "Invoice ID: 6, Issue Date: 2025-09-16, Amount to pay:1100.0\n",
      "Thank you and come again!\n"
     ]
    }
   ],
   "source": [
    "input_first_name = ui.booking_ui.get_guest_firstname()\n",
    "input_last_name = ui.booking_ui.get_guest_lastname()\n",
    "valid = False\n",
    "\n",
    "while not valid:\n",
    "    guests = Booking_manager.get_guests_by_last_and_firstname(input_last_name, input_first_name)\n",
    "\n",
    "    if not guests:\n",
    "        print(\"Guest not found. Please try again.\")\n",
    "        input_first_name = ui.booking_ui.get_guest_firstname()\n",
    "        input_last_name = ui.booking_ui.get_guest_lastname()\n",
    "    else:\n",
    "        guest = guests[0] \n",
    "\n",
    "        guest_bookings = Booking_manager.read_bookings_by_guest(guest.guest_id)\n",
    "\n",
    "        if not guest_bookings:\n",
    "            print(\"You have no bookings\")\n",
    "            valid = True\n",
    "        else:\n",
    "            for i, booking in enumerate(guest_bookings, 1):\n",
    "                print(f\"{i}. {ui.booking_ui.get_userfriendly_booking(booking)}\")\n",
    "            try:\n",
    "                input_idx = ui.input_helper.input_valid_int(\n",
    "                    \"Select a booking to generate an invoice for: \",\n",
    "                    1, len(guest_bookings)\n",
    "                ) - 1\n",
    "\n",
    "                selected_booking = guest_bookings[input_idx]\n",
    "\n",
    "                invoice = Booking_manager.billing(selected_booking.booking_id)\n",
    "                if invoice:\n",
    "                    inv= Invoice_manager.read_invoice_by_id(invoice.invoice_id)\n",
    "                    print(ui.booking_ui.get_userfriendly_invoice(inv))\n",
    "\n",
    "                elif not invoice:\n",
    "                    print(\"Please Try again\")\n",
    "                \n",
    "                input_more= ui.input_helper.input_y_n(\"Do you want to bill another booking? (Y or N)\")\n",
    "\n",
    "                if not input_more:\n",
    "                    print(\"Thank you and come again!\")\n",
    "                    valid= True\n",
    "\n",
    "            except ui.input_helper.OutOfRangeError:\n",
    "                print(f\"Invalid input, please select a number between 1 and {len(guest_bookings)}.\")\n",
    "\n"
   ]
  },
  {
   "cell_type": "markdown",
   "id": "62d18988",
   "metadata": {},
   "source": [
    "Erklärung:\n",
    "In dieser Funktion kann ein Gast nach seinem Namen identifiziert werden, um für eine seiner bestehenden Buchungen eine Rechnung zu generieren.\n",
    "\n",
    "Das Programm beginnt mit der Abfrage von Vor- und Nachname. Mithilfe der Methode get_guests_by_last_and_firstname wird nach passenden Gästen gesucht. Wird mindestens ein Treffer gefunden, wird der erste aus der Liste als gültiger Gast angenommen (Hinweis: Dass mehrere Gäste denselben Namen haben könnten, wird in dieser Version ignoriert). Ebenso ist es uns bewusst, dass eine Person fremde Buchungen nachsehen könnte. Wenn wir mehr Zeit hätten, hätten wir Login Daten an den Kunden zugewisenen. Falls kein Gast gefunden wird, wird der Nutzer zur erneuten Eingabe aufgefordert.\n",
    "\n",
    "Nach erfolgreicher Identifikation wird mit read_bookings_by_guest überprüft, ob der Gast Buchungen hat. Falls keine vorhanden sind, wird dies dem Benutzer mitgeteilt und zum zweiten Mal werden input Daten beim Nutzer nachgefragt und so oft nachgefragt bis der Nutzer die passenden Namen eingibt.\n",
    "\n",
    "Wenn Buchungen vorhanden sind, werden sie nummeriert aufgelistet und der Nutzer kann eine davon per Zahl auswählen. Die Eingabe wird gegen ungültige Eingaben mit einem try-except-Block abgesichert.\n",
    "\n",
    "Sobald eine Buchung ausgewählt ist, wird die Methode billing(...) aufgerufen, um eine Rechnung zu erstellen. Falls erfolgreich, wird diese über read_invoice_by_id(...) geladen und benutzerfreundlich angezeigt. Falls keine Rechnung erzeugt wurde (z. B. weil schon eine vorhanden ist), wird eine entsprechende Rückmeldung gegeben.\n",
    "\n",
    "Am Ende wird der Nutzer gefragt, ob er eine weitere Buchung fakturieren möchte. Bei „Ja“ beginnt der Ablauf erneut. Bei „Nein“ wird die Schleife beendet und eine Abschlussmeldung ausgegeben.\n",
    "\n",
    "Szenario: Wenn der Gast ein bereits fakturierte Buchung nochmals versucht zu fakturieren\n",
    "Der Nutzer erhält eine Fehlermeldung:\"You cannot bill a booking where there is already an existing invoice\" und wird gefragt, ob er eine weitere Rechnung fakturieren möchte.\n",
    "\n",
    "Szenario: Wenn der Gast eine stornierte Buchung versucht zu fakturieren\n",
    "Siehe User Story 6. Da die stornierten Buchungen direkt als CHF 0 Rechnungen generiert werden, kann die Buchung erstens nicht fakturiert werden, weil es schon eine Rechnung existiert und zweitens weil die Buchung storniert ist."
   ]
  },
  {
   "cell_type": "markdown",
   "id": "0286a0c1",
   "metadata": {},
   "source": [
    "## 6. Als Gast möchte ich meine Buchung stornieren, damit ich nicht  belastet werde, wenn ich das Zimmer nicht mehr benötige. Hint: Sorgt für die entsprechende Invoice. "
   ]
  },
  {
   "cell_type": "code",
   "execution_count": 25,
   "id": "cef84a37",
   "metadata": {},
   "outputs": [
    {
     "name": "stdout",
     "output_type": "stream",
     "text": [
      "Active bookings for anna müller:\n",
      "1. Booking ID: 6, Check- In: 2025-08-20, Check-Out: 2025-08-22, Total Amount: 1100.0, Cancelled: False, Booked in: Hotel Baur au Lac Room: 101, Invoice: 6\n"
     ]
    },
    {
     "ename": "EmptyInputError",
     "evalue": "Input cannot be empty.",
     "output_type": "error",
     "traceback": [
      "\u001b[31m---------------------------------------------------------------------------\u001b[39m",
      "\u001b[31mEmptyInputError\u001b[39m                           Traceback (most recent call last)",
      "\u001b[36mCell\u001b[39m\u001b[36m \u001b[39m\u001b[32mIn[25]\u001b[39m\u001b[32m, line 31\u001b[39m\n\u001b[32m     28\u001b[39m \u001b[38;5;28;01mfor\u001b[39;00m i, booking \u001b[38;5;129;01min\u001b[39;00m \u001b[38;5;28menumerate\u001b[39m(active_bookings, \u001b[32m1\u001b[39m):\n\u001b[32m     29\u001b[39m     \u001b[38;5;28mprint\u001b[39m(\u001b[33mf\u001b[39m\u001b[33m\"\u001b[39m\u001b[38;5;132;01m{\u001b[39;00mi\u001b[38;5;132;01m}\u001b[39;00m\u001b[33m. \u001b[39m\u001b[38;5;132;01m{\u001b[39;00mui.booking_ui.get_userfriendly_booking(booking)\u001b[38;5;132;01m}\u001b[39;00m\u001b[33m\"\u001b[39m)\n\u001b[32m---> \u001b[39m\u001b[32m31\u001b[39m input_idx = \u001b[43mui\u001b[49m\u001b[43m.\u001b[49m\u001b[43minput_helper\u001b[49m\u001b[43m.\u001b[49m\u001b[43minput_valid_int\u001b[49m\u001b[43m(\u001b[49m\n\u001b[32m     32\u001b[39m \u001b[43m    \u001b[49m\u001b[33;43m\"\u001b[39;49m\u001b[33;43mSelect a booking to cancel: \u001b[39;49m\u001b[33;43m\"\u001b[39;49m\u001b[43m,\u001b[49m\n\u001b[32m     33\u001b[39m \u001b[43m    \u001b[49m\u001b[32;43m1\u001b[39;49m\u001b[43m,\u001b[49m\u001b[43m \u001b[49m\u001b[38;5;28;43mlen\u001b[39;49m\u001b[43m(\u001b[49m\u001b[43mactive_bookings\u001b[49m\u001b[43m)\u001b[49m\n\u001b[32m     34\u001b[39m \u001b[43m\u001b[49m\u001b[43m)\u001b[49m - \u001b[32m1\u001b[39m\n\u001b[32m     36\u001b[39m selected_booking = active_bookings[input_idx]\n\u001b[32m     38\u001b[39m \u001b[38;5;28mprint\u001b[39m(\u001b[33mf\u001b[39m\u001b[33m\"\u001b[39m\u001b[38;5;130;01m\\n\u001b[39;00m\u001b[33mSelected booking details:\u001b[39m\u001b[33m\"\u001b[39m)\n",
      "\u001b[36mFile \u001b[39m\u001b[32mc:\\Users\\amuel\\acmerepos\\Team5\\ui\\input_helper.py:64\u001b[39m, in \u001b[36minput_valid_int\u001b[39m\u001b[34m(prompt, min_value, max_value, default)\u001b[39m\n\u001b[32m     62\u001b[39m \u001b[38;5;28;01mif\u001b[39;00m user_input == \u001b[33m\"\u001b[39m\u001b[33m\"\u001b[39m:\n\u001b[32m     63\u001b[39m     \u001b[38;5;28;01mif\u001b[39;00m default \u001b[38;5;129;01mis\u001b[39;00m \u001b[38;5;28;01mNone\u001b[39;00m:\n\u001b[32m---> \u001b[39m\u001b[32m64\u001b[39m         \u001b[38;5;28;01mraise\u001b[39;00m EmptyInputError(\u001b[33m\"\u001b[39m\u001b[33mInput cannot be empty.\u001b[39m\u001b[33m\"\u001b[39m)\n\u001b[32m     65\u001b[39m     \u001b[38;5;28;01melse\u001b[39;00m:\n\u001b[32m     66\u001b[39m         \u001b[38;5;28;01mreturn\u001b[39;00m default\n",
      "\u001b[31mEmptyInputError\u001b[39m: Input cannot be empty."
     ]
    }
   ],
   "source": [
    "input_first_name = ui.booking_ui.get_guest_firstname()\n",
    "input_last_name = ui.booking_ui.get_guest_lastname()\n",
    "valid = False\n",
    "\n",
    "while not valid:\n",
    "    guests = Booking_manager.get_guests_by_last_and_firstname(input_last_name, input_first_name)\n",
    "\n",
    "    if not guests:\n",
    "        print(\"Guest not found. Please try again.\")\n",
    "        input_first_name = ui.booking_ui.get_guest_firstname()\n",
    "        input_last_name = ui.booking_ui.get_guest_lastname()\n",
    "        continue    \n",
    "    else:\n",
    "        guest = guests[0] \n",
    "\n",
    "    guest_bookings = Booking_manager.read_bookings_by_guest(guest.guest_id)\n",
    "    if not guest_bookings:\n",
    "        print(\"You have no bookings.\")\n",
    "        valid = True\n",
    "    else:\n",
    "        active_bookings = [booking for booking in guest_bookings if not booking.is_cancelled]\n",
    "        if not active_bookings:\n",
    "            print(\"You have no active bookings to cancel. All bookings are already cancelled.\")\n",
    "            valid = True\n",
    "        else:\n",
    "            try:\n",
    "                print(f\"Active bookings for {guest.first_name} {guest.last_name}:\")\n",
    "                for i, booking in enumerate(active_bookings, 1):\n",
    "                    print(f\"{i}. {ui.booking_ui.get_userfriendly_booking(booking)}\")\n",
    "                \n",
    "                input_idx = ui.input_helper.input_valid_int(\n",
    "                    \"Select a booking to cancel: \",\n",
    "                    1, len(active_bookings)\n",
    "                ) - 1\n",
    "                \n",
    "                selected_booking = active_bookings[input_idx]\n",
    "                \n",
    "                print(f\"\\nSelected booking details:\")\n",
    "                print(ui.booking_ui.get_userfriendly_booking(selected_booking))\n",
    "                print(f\"Total amount: CHF {selected_booking.total_amount:.2f}\")\n",
    "                \n",
    "                sure = ui.input_helper.input_y_n(\"Are you sure you want to cancel this booking? (Y or N)\")\n",
    "                if not sure:\n",
    "                    print(\"Process aborted.\")\n",
    "                else:\n",
    "                    result = Booking_manager.cancell_booking(selected_booking.booking_id)\n",
    "                    if result:\n",
    "                        print(\"Success, come again.\")\n",
    "                        bill = Booking_manager.billing(selected_booking.booking_id)\n",
    "\n",
    "                valid = True  \n",
    "\n",
    "            except ui.input_helper.OutOfRangeError:\n",
    "                print(f\"Invalid input, please select a number between 1 and {len(active_bookings)}.\")\n"
   ]
  },
  {
   "cell_type": "markdown",
   "id": "efab5f7b",
   "metadata": {},
   "source": [
    "Erklärung:\n",
    "In dieser Funktion kann ein Gast nach seinem Namen identifiziert werden, um eine seiner aktiven Buchungen zu stornieren.\n",
    "\n",
    "Das Programm beginnt mit der Abfrage von Vor- und Nachname. Mithilfe der Methode get_guests_by_last_and_firstname wird nach passenden Gästen gesucht. Wird mindestens ein Treffer gefunden, wird der erste Eintrag als gültiger Gast angenommen (Hinweis: Dass mehrere Gäste denselben Namen haben könnten, wurde in dieser Version bewusst ignoriert. Ebenso wäre in einer echten Anwendung ein Login erforderlich, um Fremdzugriffe zu verhindern). Falls kein Gast gefunden wird, wird der Nutzer zur erneuten Eingabe aufgefordert – dies geschieht so oft, bis ein gültiger Gast identifiziert wurde.\n",
    "\n",
    "Nach erfolgreicher Identifikation wird mit read_bookings_by_guest überprüft, ob der Gast überhaupt Buchungen besitzt. Falls keine Buchungen vorhanden sind, wird eine entsprechende Nachricht ausgegeben und der Prozess abgebrochen.\n",
    "\n",
    "Sind Buchungen vorhanden, werden alle aktiven Buchungen (also nicht stornierte) aus der Liste herausgefiltert. Falls alle Buchungen bereits storniert wurden, wird dem Gast mitgeteilt, dass es nichts zu stornieren gibt, und der Ablauf wird beendet.\n",
    "\n",
    "Ist mindestens eine aktive Buchung vorhanden, wird eine nummerierte Liste der Buchungen angezeigt. Der Gast kann eine davon per Zahl auswählen. Die Eingabe wird über einen try-except-Block abgesichert, um ungültige Indexeingaben zu verhindern.\n",
    "\n",
    "Nach der Auswahl zeigt das System nochmals die Details der Buchung an und fragt, ob der Nutzer diese wirklich stornieren möchte. Wird die Stornierung bestätigt, wird die Methode cancell_booking(...) aufgerufen. Bei erfolgreicher Stornierung gibt das System eine Bestätigung zurück. Direkt wird im Anschluss eine null Rechnung erstellt werden (Rechnung, die CHF 0 zum Zahlen ist). Man könnte auch einen gewissen Storno Betrag anfordern, jedoch haben wir dies aus Zeitgründen nicht getan.\n",
    "\n",
    "Am Ende wird der Ablauf mit valid = True beendet\n",
    "\n",
    "Szenario: Wenn der Kunde eine Buchung stornieren möchte, bei der das Check Out Datum in der Vergangenheit liegt\n",
    "Der Nutzer erhält eine Fehlermeldung \"This Booking cannot be cancelled\". Denn es gibt eine Raise Value Zeile, die dies genau verhindert.\n",
    "\n",
    "Szenario: Wenn der Kunde eine Buchung stornieren möchte, wo es schon eine Rechnung existiert\n",
    "Der Nutzer erhält eine Fehlermeldung \"This Booking has been billed and cannot be cancelled\". Denn es gibt eine Raise Value Zeile, die dies genau verhindert."
   ]
  },
  {
   "cell_type": "markdown",
   "id": "acb81803",
   "metadata": {},
   "source": [
    "## 7. Als Gast möchte ich eine dynamische Preisgestaltung auf der  Grundlage der Nachfrage sehen, damit ich ein Zimmer zum besten  Preis buchen kann. Hint: Wendet in der Hochsaison höhere und in der Nebensaison  niedrigere Tarife an."
   ]
  },
  {
   "cell_type": "code",
   "execution_count": 27,
   "id": "f07450e0",
   "metadata": {},
   "outputs": [
    {
     "name": "stdout",
     "output_type": "stream",
     "text": [
      "Surchage for season is price per night multiplicated by 2.0\n",
      "1. Hotel: Grand Hotel National, 5 stars, City: Luzern, Room number: 301, Room description: Family Room, Max Guests: 5; Seasonal price per night: CHF 1800.0\n",
      "2. Hotel: Bellevue Palace, 5 stars, City: Bern, Room number: 401, Room description: Penthouse, Max Guests: 6; Seasonal price per night: CHF 3000.0\n"
     ]
    }
   ],
   "source": [
    "# UI\n",
    "\n",
    "input_checkin = ui.booking_ui.get_checkin_date_input()\n",
    "input_checkout = ui.booking_ui.get_checkout_date_input()\n",
    "\n",
    "\n",
    "valid = False\n",
    "while not valid:\n",
    "    av_rooms = Booking_manager.read_av_rooms(input_checkout, input_checkin)\n",
    "\n",
    "    if av_rooms:\n",
    "        print(f\"Surchage for season is price per night multiplicated by {Room_manager.get_percent_season(input_checkin)}\")\n",
    "        for i, room in enumerate(av_rooms, 1):\n",
    "            dynamic_price = Room_manager.get_price_season(input_checkin, room.price_per_night)\n",
    "            room_display = ui.booking_ui.get_userfriendly_room(room)\n",
    "            room_display = ui.booking_ui.get_userfriendly_price(room)\n",
    "            print(f\"{i}. {room_display}; Seasonal price per night: CHF {dynamic_price}\")\n",
    "        valid = True\n",
    "    elif not av_rooms:\n",
    "        print(f\"No rooms were found from {input_checkin} to {input_checkout}\")\n",
    "        input_checkin = ui.booking_ui.get_checkin_date_input()\n",
    "        input_checkout = ui.booking_ui.get_checkout_date_input()"
   ]
  },
  {
   "cell_type": "markdown",
   "id": "30f8e076",
   "metadata": {},
   "source": [
    "Erklärung:\n",
    "In dieser Funktion kann ein Gast alle verfügbaren Zimmer im System durchsuchen, indem er ein optionales Check-in- und Check-out-Datum angibt. Die Ergebnisse enthalten zusätzlich dynamisch berechnete Preise, basierend auf saisonalen Zuschlägen oder Abschlägen.\n",
    "\n",
    "Zuerst wird dem Nutzer aufgefordert die Suche auf ein bestimmtes Zeitintervall einzuschränkten. Damit man gezielt verfügbare Zimmer durchsuchen kann. Anschliessend wird eine while not valid-Schleife ausgeführt, die so lange läuft, bis gültige Ergebnisse gefunden oder verarbeitet wurden.\n",
    "Innerhalb der Schleife ruft das System read_av_rooms(...) auf.\n",
    "\n",
    "Wenn verfügbare Zimmer gefunden werden, durchläuft eine Schleife die Ergebnisliste av_rooms. Jedes Zimmer wird durchnummeriert und mit einer benutzerfreundlichen Beschreibung ausgegeben, die mit get_userfriendly_room(...) erzeugt wird. Zusätzlich wird für jedes Zimmer ein saisonaler Preis pro Nacht berechnet, der über get_price_season(...) ermittelt wird. Dieses Funktion nimmt den Monat des Check In Datums und rechnet anhand ihren Zuschlag. (Bspw. Juni bis September wäre ein doppellter Zuschlag, denn in diesen Monaten finden am häufigsten Ferien von Touristen statt) \n",
    "Anschliessend wird die Schleife mit valid = True beendet.\n",
    "\n",
    "Wenn keine Zimmer gefunden werden, gibt das System eine entsprechende Rückmeldung aus. Im Anschluss wird der Nutzer zur erneuten Eingabe von Check-in- und Check-out-Datum aufgefordert. Danach beginnt der Suchprozess erneut."
   ]
  },
  {
   "cell_type": "markdown",
   "id": "c1469f4a",
   "metadata": {},
   "source": [
    "## 8. Als Admin des Buchungssystems möchte ich alle Buchungen aller Hotels sehen können, um eine Übersicht zu erhalten."
   ]
  },
  {
   "cell_type": "code",
   "execution_count": 28,
   "id": "17f3ea36",
   "metadata": {},
   "outputs": [
    {
     "name": "stdout",
     "output_type": "stream",
     "text": [
      "Booking ID: 1, Check- In: 2025-06-01, Check-Out: 2025-06-05, Total Amount: 1000.0, Cancelled: False, Booked in: Hotel Baur au Lac Room: 101, Invoice: 1\n",
      "Booking ID: 2, Check- In: 2025-07-10, Check-Out: 2025-07-15, Total Amount: 2000.0, Cancelled: False, Booked in: Hotel Baur au Lac Room: 102, Invoice: 2\n",
      "Booking ID: 3, Check- In: 2025-08-20, Check-Out: 2025-08-22, Total Amount: 1300.0, Cancelled: False, Booked in: Four Seasons Hôtel des Bergues Room: 201, Invoice: 3\n",
      "Booking ID: 4, Check- In: 2025-09-05, Check-Out: 2025-09-10, Total Amount: 0.0, Cancelled: True, Booked in: Grand Hotel National Room: 301, Invoice: 4\n",
      "Booking ID: 5, Check- In: 2025-10-01, Check-Out: 2025-10-07, Total Amount: 9000.0, Cancelled: False, Booked in: Bellevue Palace Room: 401, Invoice: 5\n",
      "Booking ID: 6, Check- In: 2025-08-20, Check-Out: 2025-08-22, Total Amount: 1100.0, Cancelled: False, Booked in: Hotel Baur au Lac Room: 101, Invoice: 6\n",
      "Booking ID: 7, Check- In: 2025-08-20, Check-Out: 2025-08-22, Total Amount: 1760.0, Cancelled: True, Booked in: Hotel Baur au Lac Room: 102, Invoice: 7\n"
     ]
    }
   ],
   "source": [
    "bookings= Booking_manager.read_all_bookings()\n",
    "for booking in bookings:\n",
    "    print(ui.booking_ui.get_userfriendly_booking(booking))"
   ]
  },
  {
   "cell_type": "markdown",
   "id": "63f6758a",
   "metadata": {},
   "source": [
    "In dieser Funktion werden alle Buchungen im System geladen und benutzerfreundlich angezeigt.\n",
    "\n",
    "Zunächst wird mit read_all_bookings() eine Liste aller existierenden Buchungen über den BookingManager geladen. Diese Methode greift intern auf den Data Access Layer zu und liefert eine Liste von Booking-Objekten zurück.\n",
    "\n",
    "Anschliessend wird über jede Buchung iteriert. Mit der Methode get_userfriendly_booking(...) aus der booking_ui-Komponente wird jede Buchung in ein benutzerfreundliches Format gebracht – meist eine zusammengefasste Darstellung mit Informationen wie Buchungsnummer, Gastname, Hotel, Zimmernummer, Aufenthaltszeitraum und Gesamtpreis.\n",
    "\n",
    "Diese aufbereitete Darstellung wird anschliessend direkt in der Konsole ausgegeben. Die Ausgabe erfolgt in der Reihenfolge, wie sie von der Datenbank zurückgegeben wurde – in der Regel chronologisch oder nach Buchungs-ID sortiert."
   ]
  },
  {
   "cell_type": "markdown",
   "id": "4a02ae97",
   "metadata": {},
   "source": [
    "## 9. Als Admin möchte ich eine Liste der Zimmer mit ihrer  Ausstattung sehen, damit ich sie besser bewerben kann.\n"
   ]
  },
  {
   "cell_type": "code",
   "execution_count": 29,
   "id": "bdf0e7db",
   "metadata": {},
   "outputs": [
    {
     "name": "stdout",
     "output_type": "stream",
     "text": [
      "Hotel: Hotel Baur au Lac\n",
      "Room ID: 1\n",
      "Room Number: 101\n",
      "Room Type: Single\n",
      "Max Guests: 1\n",
      "Facilities: ['WiFi', 'TV']\n",
      "Price per Night: 250.0\n",
      "----------------------------------------\n",
      "Hotel: Hotel Baur au Lac\n",
      "Room ID: 2\n",
      "Room Number: 102\n",
      "Room Type: Double\n",
      "Max Guests: 2\n",
      "Facilities: ['WiFi']\n",
      "Price per Night: 400.0\n",
      "----------------------------------------\n",
      "Hotel: Four Seasons Hôtel des Bergues\n",
      "Room ID: 3\n",
      "Room Number: 201\n",
      "Room Type: Suite\n",
      "Max Guests: 4\n",
      "Facilities: ['Air Conditioning']\n",
      "Price per Night: 650.0\n",
      "----------------------------------------\n",
      "Hotel: Grand Hotel National\n",
      "Room ID: 4\n",
      "Room Number: 301\n",
      "Room Type: Family Room\n",
      "Max Guests: 5\n",
      "Facilities: ['Mini Bar']\n",
      "Price per Night: 900.0\n",
      "----------------------------------------\n",
      "Hotel: Bellevue Palace\n",
      "Room ID: 5\n",
      "Room Number: 401\n",
      "Room Type: Penthouse\n",
      "Max Guests: 6\n",
      "Facilities: []\n",
      "Price per Night: 1500.0\n",
      "----------------------------------------\n",
      "None\n"
     ]
    }
   ],
   "source": [
    "print(Room_manager.get_rooms_for_admin())\n"
   ]
  },
  {
   "cell_type": "markdown",
   "id": "66e57c40",
   "metadata": {},
   "source": [
    "Erklärung:\n",
    "\n",
    "UI: Die Ausgabe wird direkt in der Funktion get_rooms_for_admin() geregelt. Für jedes Zimmer werden die wichtigsten Informationen angezeigt: Hotelname, Room ID, Zimmernummer, Zimmertyp, maximale Gästeanzahl, Ausstattung (Facilities) sowie der Preis pro Nacht. Die Daten werden für jedes Zimmer übersichtlich und untereinander formatiert ausgegeben. Dabei wird über die room_id auf die zugehörigen Ausstattungen zugegriffen.\n",
    "\n",
    "BL: Die Methode get_rooms_for_admin() kombiniert Datenbeschaffung und Darstellung. Es werden alle Zimmer über get_all_rooms() geladen. Für jedes Zimmer wird zusätzlich der Hotelname (über hotel_id) sowie die zugehörigen Ausstattungen (facilities) ermittelt. Falls das Hotel zu einer Room-ID nicht gefunden wird, wird automatisch „Unknown Hotel“ angezeigt. Das macht die Funktion fehlertolerant bei unvollständigen Daten."
   ]
  },
  {
   "cell_type": "markdown",
   "id": "dbd66626",
   "metadata": {},
   "source": [
    "## 10. Als Admin möchte ich in der Lage sein, Stammdaten zu verwalten,  z.B. Zimmertypen, Einrichtungen, und Preise in Echtzeit zu  aktualisieren, damit das Backend-System aktuelle Informationen  hat. Hint: Stammdaten sind alle Daten, die nicht von anderen Daten  abhängen."
   ]
  },
  {
   "cell_type": "markdown",
   "id": "911af9d1",
   "metadata": {},
   "source": [
    "### RoomType Erstellen, Updaten und Löschen"
   ]
  },
  {
   "cell_type": "code",
   "execution_count": null,
   "id": "b66c8858",
   "metadata": {},
   "outputs": [],
   "source": [
    "#Roomtype\n",
    "\n",
    "stop = False\n",
    "\n",
    "while not stop:\n",
    "    print(\"1. Create new room type\")\n",
    "    print(\"2. Update room type\")\n",
    "    print(\"3. Delete room type\")\n",
    "    print(\"4. Exit\")\n",
    "\n",
    "    choice = ui.input_helper.input_valid_int(\"Choose an option: \", 1, 5)\n",
    "\n",
    "    if choice == 1:\n",
    "        description = ui.input_helper.input_valid_string(\"Enter room type description: \", 1, 50)\n",
    "        max_guests = ui.input_helper.input_valid_int(\"Enter max guests for this room type: \", 1, 25)\n",
    "        Room_manager.create_new_room_type(description, max_guests)\n",
    "        print(Room_manager.read_all_room_types())\n",
    "    elif choice == 2:\n",
    "        all_room_types = Room_manager.read_all_room_types()\n",
    "        for i, room_type in enumerate(all_room_types, 1):\n",
    "            print(f\"{i}. {ui.hotel_ui.get_room_type_short(room_type)}\")\n",
    "        input_idx = ui.input_helper.input_valid_int(\"Select room type to update: \", 1, len(all_room_types)) - 1\n",
    "        selected_room_type = all_room_types[input_idx]\n",
    "        new_description = ui.input_helper.input_valid_string(\"Enter new room type description: \", 1, 50)\n",
    "        new_max_guests = ui.input_helper.input_valid_int(\"Enter new max guests for this room type: \", 1, 25)\n",
    "        Room_manager.update_room_type(selected_room_type.type_id, new_description, new_max_guests)\n",
    "        print(Room_manager.read_all_room_types())\n",
    "    elif choice == 3:\n",
    "        all_room_types = Room_manager.read_all_room_types()\n",
    "        for i, room_type in enumerate(all_room_types, 1):\n",
    "            print(f\"{i}. {ui.hotel_ui.get_room_type_short(room_type)}\")\n",
    "        input_idx = ui.input_helper.input_valid_int(\"Select room type to delete: \", 1, len(all_room_types)) - 1\n",
    "        selected_room_type = all_room_types[input_idx]\n",
    "        Room_manager.delete_room_type_by_id(selected_room_type.type_id)\n",
    "        print(Room_manager.read_all_room_types())\n",
    "    elif choice == 4:\n",
    "        print(\"Exiting...\")\n",
    "        stop = True"
   ]
  },
  {
   "cell_type": "markdown",
   "id": "9ceb6ea1",
   "metadata": {},
   "source": [
    "Erklärung:\n",
    "\n",
    "UI: Die Auswahl erfolgt per input_valid_int, wobei die Eingabe validiert wird. Bei „Erstellen“ werden Beschreibung und max. Gästezahl eingegeben. Bei „Aktualisieren“ oder „Löschen“ wird zuerst eine Liste aller Zimmertypen angezeigt, danach wählt der Admin per Index aus, ähnlich wie bei vorherigen User Stories.\n",
    "\n",
    "BL: Je nach Auswahl wird die entsprechende Methode des Room_manager aufgerufen (create, update, delete). Danach wird direkt die aktuelle Liste aller Zimmertypen angezeigt – so hat der Admin sofort die Kontrolle über den Stand der Daten."
   ]
  },
  {
   "cell_type": "markdown",
   "id": "a05af3a8",
   "metadata": {},
   "source": [
    "### Facilities Erstellen, Updaten und Löschen"
   ]
  },
  {
   "cell_type": "code",
   "execution_count": null,
   "id": "9fe904ab",
   "metadata": {},
   "outputs": [],
   "source": [
    "#Facilities\n",
    "stop = False\n",
    "while not stop:\n",
    "    print(\"1. Create new facility\")\n",
    "    print(\"2. Update facility\")\n",
    "    print(\"3. Delete facility\")\n",
    "    print(\"4. Exit\")\n",
    "\n",
    "    choice = ui.input_helper.input_valid_int(\"Choose an option: \", 1, 4)\n",
    "\n",
    "    if choice == 1:\n",
    "        name = ui.input_helper.input_valid_string(\"Enter facility name: \", 1, 20)\n",
    "        Room_manager.create_new_facility(name)\n",
    "        print(Room_manager.get_all_facilities())\n",
    "    elif choice == 2:\n",
    "        all_facilities = Room_manager.get_all_facilities()\n",
    "        for i, facility in enumerate(all_facilities, 1):\n",
    "            print(f\"{i}. {ui.hotel_ui.get_all_facilities_short(facility)}\")\n",
    "        input_idx = ui.input_helper.input_valid_int(\"Select facility to update: \", 1, len(all_facilities)) - 1\n",
    "        selected_facility = all_facilities[input_idx]\n",
    "        new_name = ui.input_helper.input_valid_string(\"Enter new facility name: \", 1, 20)\n",
    "        Room_manager.update_facility(selected_facility.facility_id, new_name)\n",
    "        print(Room_manager.get_all_facilities())\n",
    "    elif choice == 3:\n",
    "        all_facilities = Room_manager.get_all_facilities()\n",
    "        for i, facility in enumerate(all_facilities, 1):\n",
    "            print(f\"{i}. {ui.hotel_ui.get_all_facilities_short(facility)}\")\n",
    "        input_idx = ui.input_helper.input_valid_int(\"Select facility to delete: \", 1, len(all_facilities)) - 1\n",
    "        selected_facility = all_facilities[input_idx]\n",
    "        Room_manager.delete_facility_by_id(selected_facility.facility_id)\n",
    "        print(Room_manager.get_all_facilities())\n",
    "    elif choice == 4:\n",
    "        print(\"Exiting...\")\n",
    "        stop = True"
   ]
  },
  {
   "cell_type": "markdown",
   "id": "26573b28",
   "metadata": {},
   "source": [
    "Erklärung:\n",
    "\n",
    "UI: Die Auswahl erfolgt über input_valid_int, wobei die Eingabe validiert wird. Bei jeder Aktion wird die Liste aller Einrichtungen angezeigt und mit Index versehen (beginnend bei 1). Die Auswahl einer bestehenden Einrichtung erfolgt dann über den Index – mit Sicherheit gegen ungültige Eingaben.\n",
    "\n",
    "BL: Bei Erstellung wird der Name der neuen Einrichtung eingegeben und gespeichert. Bei Aktualisierung wird der neue Name gesetzt und übergeben. Bei Löschung wird die gewählte Einrichtung per ID entfernt.\n",
    "Die Room_manager-Methoden übernehmen dabei die Datenverarbeitung und greifen intern auf die Datenbankschicht (DAL) zu."
   ]
  },
  {
   "cell_type": "markdown",
   "id": "a6ff8551",
   "metadata": {},
   "source": [
    "### Prices (Price per Night) und Gesamtpreis Updaten"
   ]
  },
  {
   "cell_type": "code",
   "execution_count": null,
   "id": "34f79e7d",
   "metadata": {},
   "outputs": [],
   "source": [
    "#Prices\n",
    "stop = False\n",
    "while not stop:\n",
    "    print(\"1. Update price for room\")\n",
    "    print(\"2. Update price for guest\")\n",
    "    print(\"3. Exit\")\n",
    "\n",
    "    choice = ui.input_helper.input_valid_int(\"Choose an option: \", 1, 3)\n",
    "\n",
    "    if choice == 1:\n",
    "        all_rooms = Room_manager.get_all_rooms()\n",
    "        for i, room in enumerate(all_rooms, 1):\n",
    "            print(f\"{i}. {ui.hotel_ui.get_room_info_short(room)}\")\n",
    "        input_idx = ui.input_helper.input_valid_int(\"Select room to update price: \", 1, len(all_rooms)) - 1\n",
    "        selected_room = all_rooms[input_idx]\n",
    "        print(f\"Current price for Room Number: {selected_room.room_number} Type: {selected_room.room_type} is: {selected_room.price_per_night} per night\")\n",
    "        new_price = ui.input_helper.input_valid_float(\"Enter new price for this room: \", 0.01, 10000.0)\n",
    "        selected_room.price_per_night = new_price\n",
    "        Room_manager.update_room(selected_room.room_id, selected_room.hotel_id, selected_room.room_number, selected_room.room_type.type_id, selected_room.price_per_night)\n",
    "    \n",
    "    if choice == 2:\n",
    "        print(\"Muss Anna noch machen\")\n",
    "    elif choice == 3:\n",
    "        print(\"Exiting...\")\n",
    "        stop = True\n",
    "        \n",
    "\n",
    "       "
   ]
  },
  {
   "cell_type": "markdown",
   "id": "b213eb6e",
   "metadata": {},
   "source": [
    "## Optionale User Stories\n",
    "\n",
    "### 11.1 Als Admin möchte ich in der Lage sein einen neuen Raum zu erstellen und diesen zu verwalten, zb. RaumTyp ändern und Facilities verwalten"
   ]
  },
  {
   "cell_type": "code",
   "execution_count": null,
   "id": "1af0662b",
   "metadata": {},
   "outputs": [],
   "source": [
    "stop= False\n",
    "while not stop:\n",
    "    print(\"1. Show all Rooms\")\n",
    "    print(\"2. Create new Room\")\n",
    "    print(\"3. Update Room\")\n",
    "    print(\"4. Delete Room\")\n",
    "    print(\"5. Assign Facility to Room\")\n",
    "    print(\"6. Delete Facility from Room\")\n",
    "    print(\"7. Exit\")\n",
    "\n",
    "    choice = ui.input_helper.input_valid_int(\"Choose an option: \", 1, 7)\n",
    "\n",
    "    if choice == 1:\n",
    "        print(\"All Rooms:\")\n",
    "        all_rooms = Room_manager.get_rooms_for_admin()\n",
    "\n",
    "    if choice == 2:\n",
    "        all_hotels = Hotel_manager.read_all_hotels()\n",
    "        for i, hotel in enumerate(all_hotels, 1):\n",
    "            print(f\"{i}. {ui.hotel_ui.get_user_frendly_hotel_info_short(hotel)}\")\n",
    "        selected_hotel = None\n",
    "        while selected_hotel is None:\n",
    "            try:\n",
    "                input_idx = ui.input_helper.input_valid_int(\"For which Hotel?: \", 1, len(all_hotels)) - 1\n",
    "                selected_hotel = all_hotels[input_idx]\n",
    "                hotel_id = selected_hotel.hotel_id\n",
    "            except ui.input_helper.OutOfRangeError as e:\n",
    "                print(f\"Invalid input, please select a number between 1 and {len(all_hotels)}.\")\n",
    "            except ValueError as e:\n",
    "                print(\"Invalid input, please enter a valid number.\")\n",
    "\n",
    "        room_number = ui.input_helper.input_valid_string(\"Enter room number: \", 1, 30)\n",
    "\n",
    "        room_type = Room_manager.read_all_room_types()\n",
    "        for i, room in enumerate(room_type, 1):\n",
    "            print(f\"{i}. {ui.hotel_ui.get_room_type_short(room)}\")\n",
    "        selected_room_type = None\n",
    "        while selected_room_type is None:\n",
    "            try:\n",
    "                input_idx = ui.input_helper.input_valid_int(\"Select room type: \", 1, len(room_type)) - 1\n",
    "                selected_room_type = room_type[input_idx]\n",
    "                room_type_id = selected_room_type.type_id\n",
    "            except ui.input_helper.OutOfRangeError as e:\n",
    "                print(f\"Invalid input, please select a number between 1 and {len(room_type)}.\")\n",
    "            except ValueError as e:\n",
    "                print(\"Invalid input, please enter a valid number.\")\n",
    "        \n",
    "        price = ui.input_helper.input_valid_float(\"Enter price per night for this room: \", 0.01, 1000000.0)\n",
    "\n",
    "        Room_manager.create_new_room(hotel_id, room_number, room_type_id, price)\n",
    "        print(f\"Room created successfully: {room_number} in Hotel: {selected_hotel.name} with Type: {selected_room_type.description} at price: CHF {price} per night.\")\n",
    "        print(f\"Current rooms in the {selected_hotel.name}:\")\n",
    "        print(Room_manager.get_room_info_user_friendly(selected_hotel.hotel_id))\n",
    "            \n",
    "    if choice == 3:\n",
    "        all_rooms = Room_manager.get_all_rooms()\n",
    "        for i, room in enumerate(all_rooms, 1):\n",
    "            print(f\"{i}. {ui.hotel_ui.get_room_info_short(room)}\")\n",
    "        input_idx = ui.input_helper.input_valid_int(\"Select which Room to update \", 1, len(all_rooms)) - 1\n",
    "        selected_room = all_rooms[input_idx]\n",
    "        print(f\"You selected: {ui.hotel_ui.get_room_info_short(selected_room)}\")\n",
    "        if ui.input_helper.input_y_n(\"Do you want to update the room number? (Y or N)\", ):\n",
    "            new_room_number = ui.input_helper.input_valid_string(\"Enter new room number: \", 1, 30)\n",
    "            selected_room.room_number = new_room_number\n",
    "        if ui.input_helper.input_y_n(\"Do you want to update the room type? (Y or N)\", ):\n",
    "            all_room_types = Room_manager.read_all_room_types()\n",
    "            for i, room_type in enumerate(all_room_types, 1):\n",
    "                print(f\"{i}. {ui.hotel_ui.get_room_type_short(room_type)}\")\n",
    "            input_idx = ui.input_helper.input_valid_int(\"Select new room type: \", 1, len(all_room_types)) - 1\n",
    "            selected_room.room_type = all_room_types[input_idx]\n",
    "        if ui.input_helper.input_y_n(\"Do you want to update the price per night? (Y or N)\", ):\n",
    "            new_price = ui.input_helper.input_valid_float(\"Enter new price per night: \", 0.01, 1000000.0)\n",
    "            selected_room.price_per_night = new_price\n",
    "\n",
    "        Room_manager.update_room(selected_room.room_id, selected_room.hotel_id, selected_room.room_number, selected_room.room_type.type_id, selected_room.price_per_night)\n",
    "        print(f\"Room updated successfully: {selected_room.room_number} in Hotel: {selected_room.hotel_id} with Type: {selected_room.room_type} at price: CHF {selected_room.price_per_night} per night.\")\n",
    "\n",
    "    if choice == 4:\n",
    "        all_rooms = Room_manager.get_all_rooms()\n",
    "        for i, room in enumerate(all_rooms, 1):\n",
    "            print(f\"{i}. {ui.hotel_ui.get_room_info_short(room)}\")\n",
    "        input_idx = ui.input_helper.input_valid_int(\"Select which Room to delete \", 1, len(all_rooms)) - 1\n",
    "        selected_room = all_rooms[input_idx]\n",
    "        print(f\"You selected: {ui.hotel_ui.get_room_info_short(selected_room)}\")\n",
    "        Room_manager.delete_room(selected_room)\n",
    "        print(\"Successfully deleted\")\n",
    "\n",
    "    if choice == 5:\n",
    "        all_rooms = Room_manager.get_all_rooms()\n",
    "        for i, room in enumerate(all_rooms, 1):\n",
    "            print(f\"{i}. {ui.hotel_ui.get_room_info_short(room)}\")\n",
    "        input_idx = ui.input_helper.input_valid_int(\"Select room to assign facility: \", 1, len(all_rooms)) - 1\n",
    "        selected_room = all_rooms[input_idx]\n",
    "\n",
    "        all_facilities = Room_manager.get_all_facilities()\n",
    "        for i, facility in enumerate(all_facilities, 1):\n",
    "            print(f\"{i}. {ui.hotel_ui.get_all_facilities_short(facility)}\")\n",
    "        input_idx = ui.input_helper.input_valid_int(\"Select facility to assign: \", 1, len(all_facilities)) - 1\n",
    "        selected_facility = all_facilities[input_idx]\n",
    "\n",
    "        Room_manager.add_facility_to_room(selected_room.room_id, selected_facility.facility_id)\n",
    "        print(f\"Facility {selected_facility.name} assigned to room {selected_room.room_number}.\")\n",
    "\n",
    "    if choice == 6:\n",
    "        all_rooms = Room_manager.get_all_rooms()\n",
    "        for i, room in enumerate(all_rooms, 1):\n",
    "            print(f\"{i}. {ui.hotel_ui.get_room_info_short(room)}\")\n",
    "        input_idx = ui.input_helper.input_valid_int(\"Select room to delete facility from: \", 1, len(all_rooms)) - 1\n",
    "        selected_room = all_rooms[input_idx]\n",
    "        while True:\n",
    "            room_facilites = Room_manager.get_facilities_for_room(selected_room.room_id)\n",
    "            if not room_facilites:\n",
    "                print(\"This room has no more facilities assigned.\")\n",
    "                break\n",
    "\n",
    "            print(f\"\\nRoom: {selected_room.room_number} has the following Facilities:\")\n",
    "            for i, fac in enumerate(room_facilites, 1):\n",
    "                print(f\"{i}. {fac.name}\")\n",
    "            if not ui.input_helper.input_y_n(\"Do you want to remove one of them? (Y/N): \"):\n",
    "                break\n",
    "            fac_idx = ui.input_helper.input_valid_int(\"Select facility to remove: \", 1, len(room_facilites)) - 1\n",
    "\n",
    "            selected_facility = room_facilites[fac_idx]\n",
    "            Room_manager.delete_facility_from_room(selected_room.room_id, selected_facility.facility_id)\n",
    "            print(f\"Removed: {selected_facility.name}\")\n",
    "\n",
    "    if choice == 7:\n",
    "        print(\"Exiting...\")\n",
    "        stop = True\n",
    "\n",
    "    \n"
   ]
  },
  {
   "cell_type": "markdown",
   "id": "a6bb4410",
   "metadata": {},
   "source": [
    "1. Raum erstellen, updaten und löschen\n",
    "2. Zu einem Hotel hinzufügen oder entfernen\n",
    "3. Facilities verwalten usw."
   ]
  }
 ],
 "metadata": {
  "kernelspec": {
   "display_name": ".venv",
   "language": "python",
   "name": "python3"
  },
  "language_info": {
   "codemirror_mode": {
    "name": "ipython",
    "version": 3
   },
   "file_extension": ".py",
   "mimetype": "text/x-python",
   "name": "python",
   "nbconvert_exporter": "python",
   "pygments_lexer": "ipython3",
   "version": "3.11.9"
  }
 },
 "nbformat": 4,
 "nbformat_minor": 5
}
